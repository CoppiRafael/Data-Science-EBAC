{
  "nbformat": 4,
  "nbformat_minor": 0,
  "metadata": {
    "colab": {
      "provenance": []
    },
    "kernelspec": {
      "name": "python3",
      "display_name": "Python 3"
    },
    "language_info": {
      "name": "python"
    }
  },
  "cells": [
    {
      "cell_type": "markdown",
      "source": [
        "#Exercicio 1 "
      ],
      "metadata": {
        "id": "pFkvP9kL2PNg"
      }
    },
    {
      "cell_type": "markdown",
      "source": [
        "### CIÊNCIA DE DADOS"
      ],
      "metadata": {
        "id": "Nd-IQ9EX2sXI"
      }
    },
    {
      "cell_type": "markdown",
      "source": [
        "- **Parágrafo:**"
      ],
      "metadata": {
        "id": "A3iu7yJF24yv"
      }
    },
    {
      "cell_type": "markdown",
      "source": [
        "Inicialmente, gostaria de dizer que ainda sou estudante e não trabalho em nenhuma área de dados. Sou Trader no mercado Cambial(Forex). Posto isso, fica compreensível que o setor em que eu me interesso é o financeiro. \n"
      ],
      "metadata": {
        "id": "Xuw7l-7l2yaQ"
      }
    },
    {
      "cell_type": "markdown",
      "source": [
        "#Ciência de dados no Mercado Financeiro:\n",
        "Em resumo, tudo que envolve o mercado financeiro são números e dados extremamente sensíveis. Dessa forma, a Ciência de Dados contribui para o maior processamento de dados em um menor tempo.\n",
        "\n",
        "Além disso, ela atua diretamente no mercado de ações, ajuda na detecção de fraudes e trabalha para melhorar a experiência do cliente.\n",
        "\n"
      ],
      "metadata": {
        "id": "XtZoQXWo4Ub8"
      }
    },
    {
      "cell_type": "markdown",
      "source": [
        "# O que faz um cientista de dados no setor financeiro?\n",
        "No mercado financeiro, algumas atribuições do cientista de dados são:\n",
        "\n",
        "- Coletar e armazenar dados;\n",
        "\n",
        "- Desenvolver soluções orientadas por dados para problemas como fraudes e experiência do cliente;\n",
        "\n",
        "- Codificar novos algoritmos do zero com objetivo de melhorar o gerenciamento do processo de análise de dados;\n",
        "\n",
        "- Minerar dados para conseguir insights."
      ],
      "metadata": {
        "id": "l_AWLMfV4-9O"
      }
    },
    {
      "cell_type": "markdown",
      "source": [
        "#Aplicações da Ciência de Dados no mercado financeiro\n",
        "\n",
        "\n",
        "**Análise e gerenciamento de risco**:                                           \n",
        "Ajuda empresas a analisarem os riscos que estão correndo e tomarem decisões estratégicas. Além de ajudar também a gerenciar e amenizar os impactos causados pelos riscos do mercado financeiro como, por exemplo, uma crise econômica.    \n",
        "\n",
        "**Detecção de fraude financeira**:                                                \n",
        "Diariamente inúmeras pessoas são vítimas de ataques cibernéticos e entre os mais comuns está o uso indevido de contas bancárias e cartões de crédito. Nesse sentido, a Ciência de Dados ajuda bancos a identificarem fraudes e comportamentos fora do padrão do cliente, como compras ou transferências em valores incomuns para aquele perfil.   \n",
        "\n",
        "**Negociação algorítmica**:                                                     \n",
        "Os algoritmos são capazes de fazer cálculos de alta complexidade com extrema rapidez e precisão. O que, consequentemente, ajuda empresas a compreender melhor os dados e fazer melhores previsões e desenvolver estratégias certeiras para o mercado futuro. \n",
        "\n",
        "**Estratégia de investimentos**:\n",
        "Com todos os dados em mãos, desde dados antigos até projeções futuras, fica mais fácil decidir onde vale a pena investir o dinheiro sem correr muitos riscos.\n",
        "\n",
        "Aqui, é muito comum os cientistas usarem a análise estatística de dados, sobretudo análise preditiva. Ou seja, eles utilizam resultados já conhecidos para desenvolver novas estratégias que servem para prever novas projeções para o investimento."
      ],
      "metadata": {
        "id": "-sqLjYE27KbY"
      }
    }
  ]
}