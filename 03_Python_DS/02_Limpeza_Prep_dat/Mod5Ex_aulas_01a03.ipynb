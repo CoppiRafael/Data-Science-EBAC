{
 "cells": [
  {
   "cell_type": "markdown",
   "metadata": {},
   "source": [
    "# Módulo 5 Tarefa 1\n",
    "## Base de nascidos vivos do DataSUS\n",
    "O DataSUS disponibiliza diversos arquivos de dados com relação a seus segurados, conforme a [lei da transparência de informações públicas](https://www.sisgov.com/transparencia-acesso-informacao/#:~:text=A%20Lei%20da%20Transpar%C3%AAncia%20(LC,em%20um%20site%20na%20internet.). \n",
    "\n",
    "Essas informações podem ser obtidas pela internet [aqui](http://www2.datasus.gov.br/DATASUS/index.php?area=0901&item=1). Como o processo de obtenção desses arquivos foge um pouco do nosso escopo, deixamos o arquivo SINASC_RO_2019.csv` já como vai ser encontrado no DataSUS. O dicionário de dados está no arquivo `estrutura_sinasc_para_CD.pdf` (o nome do arquivo tal qual no portal do DataSUS).\n",
    "\n",
    "### Nosso objetivo\n",
    "Queremos deixar uma base organizada para podermos estudar a relação entre partos com risco para o bebê e algumas condições como tempo de parto, consultas de pré-natal etc.\n",
    "\n",
    "#### Preparação da base\n",
    "1. Carregue a base 'SINASC_RO_2019.csv'. Conte o número de registros e o número de registros não duplicados da base. Dica: você aprendeu um método que remove duplicados, encadeie este método com um outro método que conta o número de linhas. **Há linhas duplicadas?**  \n",
    "\n",
    "2. Conte o número de valores *missing* por variável.  \n",
    "\n",
    "3. Ok, no item anterior você deve ter achado pouco prático ler a informação de tantas variáveis, muitas delas nem devem ser interesantes. Então crie uma seleção dessa base somente com as colunas que interessam. São elas:\n",
    "` \n",
    "['LOCNASC', 'IDADEMAE', 'ESTCIVMAE', 'ESCMAE', 'QTDFILVIVO', \n",
    "    'GESTACAO', 'GRAVIDEZ', 'CONSULTAS', 'APGAR5'] \n",
    "`\n",
    "Refaça a contagem de valores *missings*.  \n",
    "\n",
    "4. Apgar é uma *nota* que o pediatra dá ao bebê quando nasce de acordo com algumas características associadas principalmente à respiração. Apgar 1 e Apgar 5 são as notas 1 e 5 minutos do nascimento. Apgar5 será a nossa variável de interesse principal. Então remova todos os registros com Apgar5 não preenchido. Para esta seleção, conte novamente o número de linhas e o número de *missings*.  \n",
    "\n",
    "5. observe que as variáveis `['ESTCIVMAE', 'CONSULTAS']` possuem o código `9`, que significa *ignorado*. Vamos assumir que o não preenchido é o mesmo que o código `9`.<br>\n",
    "6. Substitua os valores faltantes da quantitativa (`QTDFILVIVO`) por zero.  \n",
    "7. Das restantes, decida que valore te parece mais adequado (um 'não preenchido' ou um valor 'mais provável' como no item anterior) e preencha. Justifique. Lembre-se de que tratamento de dados é trabalho do cientista, e que estamos tomando decisões a todo o momento - não há necessariamente certo e errado aqui.  \n",
    "8. O Apgar possui uma classificação indicando se o bebê passou por asfixia:\n",
    "- Entre 8 e 10 está em uma faixa 'normal'. \n",
    "- Entre 6 e 7, significa que o recém-nascido passou por 'asfixia leve'. \n",
    "- Entre 4 e 5 significa 'asfixia moderada'.\n",
    "- Entre 0 e 3 significa 'asfixia severa'.  \n",
    "\n",
    "Crie uma categorização dessa variável com essa codificação e calcule as frequências dessa categorização.  \n",
    "<br>\n",
    "9. Renomeie as variáveis para que fiquem no *snake case*, ou seja, em letras minúsculas, com um *underscore* entre as palávras. Dica: repare que se você não quiser criar um *dataframe* novo, você vai precisar usar a opção `inplace = True`."
   ]
  },
  {
   "cell_type": "markdown",
   "metadata": {},
   "source": [
    "### 1) Carregue a base 'SINASC_RO_2019.csv'. Conte o número de registros e o número de registros não duplicados da base. Dica: você aprendeu um método que remove duplicados, encadeie este método com um outro método que conta o número de linhas. Há linhas duplicadas?"
   ]
  },
  {
   "cell_type": "code",
   "execution_count": 173,
   "metadata": {},
   "outputs": [
    {
     "name": "stdout",
     "output_type": "stream",
     "text": [
      "(27028, 69)\n"
     ]
    },
    {
     "data": {
      "text/plain": [
       "(27028, 69)"
      ]
     },
     "execution_count": 173,
     "metadata": {},
     "output_type": "execute_result"
    }
   ],
   "source": [
    "import pandas as pd\n",
    "import requests\n",
    "\n",
    "# 1) seu código aqui\n",
    "sinasc = pd.read_csv('SINASC_RO_2019.csv')\n",
    "print(sinasc.shape)\n",
    "sinasc.drop_duplicates().shape\n",
    "# Não há duplicados"
   ]
  },
  {
   "cell_type": "markdown",
   "metadata": {},
   "source": [
    "### 2) Conte o número de valores missing por variável.\n"
   ]
  },
  {
   "cell_type": "code",
   "execution_count": 174,
   "metadata": {},
   "outputs": [
    {
     "name": "stdout",
     "output_type": "stream",
     "text": [
      "ORIGEM          0\n",
      "CODESTAB      115\n",
      "CODMUNNASC      0\n",
      "LOCNASC         0\n",
      "IDADEMAE        0\n",
      "             ... \n",
      "munResUf        0\n",
      "munResLat       1\n",
      "munResLon       1\n",
      "munResAlt       1\n",
      "munResArea      1\n",
      "Length: 69, dtype: int64\n"
     ]
    }
   ],
   "source": [
    "print(sinasc.isna().sum())"
   ]
  },
  {
   "cell_type": "code",
   "execution_count": 175,
   "metadata": {
    "scrolled": true
   },
   "outputs": [
    {
     "name": "stdout",
     "output_type": "stream",
     "text": [
      "\u001b[91mORIGEM\u001b[0m tem \u001b[91m0\u001b[0m dados missing\n",
      "\u001b[91mCODESTAB\u001b[0m tem \u001b[91m115\u001b[0m dados missing\n",
      "\u001b[91mCODMUNNASC\u001b[0m tem \u001b[91m0\u001b[0m dados missing\n",
      "\u001b[91mLOCNASC\u001b[0m tem \u001b[91m0\u001b[0m dados missing\n",
      "\u001b[91mIDADEMAE\u001b[0m tem \u001b[91m0\u001b[0m dados missing\n",
      "\u001b[91mESTCIVMAE\u001b[0m tem \u001b[91m317\u001b[0m dados missing\n",
      "\u001b[91mESCMAE\u001b[0m tem \u001b[91m312\u001b[0m dados missing\n",
      "\u001b[91mCODOCUPMAE\u001b[0m tem \u001b[91m2907\u001b[0m dados missing\n",
      "\u001b[91mQTDFILVIVO\u001b[0m tem \u001b[91m1573\u001b[0m dados missing\n",
      "\u001b[91mQTDFILMORT\u001b[0m tem \u001b[91m2098\u001b[0m dados missing\n",
      "\u001b[91mCODMUNRES\u001b[0m tem \u001b[91m0\u001b[0m dados missing\n",
      "\u001b[91mGESTACAO\u001b[0m tem \u001b[91m1232\u001b[0m dados missing\n",
      "\u001b[91mGRAVIDEZ\u001b[0m tem \u001b[91m79\u001b[0m dados missing\n",
      "\u001b[91mPARTO\u001b[0m tem \u001b[91m49\u001b[0m dados missing\n",
      "\u001b[91mCONSULTAS\u001b[0m tem \u001b[91m0\u001b[0m dados missing\n",
      "\u001b[91mDTNASC\u001b[0m tem \u001b[91m0\u001b[0m dados missing\n",
      "\u001b[91mHORANASC\u001b[0m tem \u001b[91m21\u001b[0m dados missing\n",
      "\u001b[91mSEXO\u001b[0m tem \u001b[91m4\u001b[0m dados missing\n",
      "\u001b[91mAPGAR1\u001b[0m tem \u001b[91m96\u001b[0m dados missing\n",
      "\u001b[91mAPGAR5\u001b[0m tem \u001b[91m103\u001b[0m dados missing\n",
      "\u001b[91mRACACOR\u001b[0m tem \u001b[91m647\u001b[0m dados missing\n",
      "\u001b[91mPESO\u001b[0m tem \u001b[91m0\u001b[0m dados missing\n",
      "\u001b[91mIDANOMAL\u001b[0m tem \u001b[91m591\u001b[0m dados missing\n",
      "\u001b[91mDTCADASTRO\u001b[0m tem \u001b[91m0\u001b[0m dados missing\n",
      "\u001b[91mCODANOMAL\u001b[0m tem \u001b[91m26814\u001b[0m dados missing\n",
      "\u001b[91mNUMEROLOTE\u001b[0m tem \u001b[91m0\u001b[0m dados missing\n",
      "\u001b[91mVERSAOSIST\u001b[0m tem \u001b[91m0\u001b[0m dados missing\n",
      "\u001b[91mDTRECEBIM\u001b[0m tem \u001b[91m0\u001b[0m dados missing\n",
      "\u001b[91mDIFDATA\u001b[0m tem \u001b[91m0\u001b[0m dados missing\n",
      "\u001b[91mDTRECORIGA\u001b[0m tem \u001b[91m27028\u001b[0m dados missing\n",
      "\u001b[91mNATURALMAE\u001b[0m tem \u001b[91m298\u001b[0m dados missing\n",
      "\u001b[91mCODMUNNATU\u001b[0m tem \u001b[91m298\u001b[0m dados missing\n",
      "\u001b[91mCODUFNATU\u001b[0m tem \u001b[91m298\u001b[0m dados missing\n",
      "\u001b[91mESCMAE2010\u001b[0m tem \u001b[91m249\u001b[0m dados missing\n",
      "\u001b[91mSERIESCMAE\u001b[0m tem \u001b[91m12710\u001b[0m dados missing\n",
      "\u001b[91mDTNASCMAE\u001b[0m tem \u001b[91m40\u001b[0m dados missing\n",
      "\u001b[91mRACACORMAE\u001b[0m tem \u001b[91m661\u001b[0m dados missing\n",
      "\u001b[91mQTDGESTANT\u001b[0m tem \u001b[91m1212\u001b[0m dados missing\n",
      "\u001b[91mQTDPARTNOR\u001b[0m tem \u001b[91m1879\u001b[0m dados missing\n",
      "\u001b[91mQTDPARTCES\u001b[0m tem \u001b[91m1791\u001b[0m dados missing\n",
      "\u001b[91mIDADEPAI\u001b[0m tem \u001b[91m19421\u001b[0m dados missing\n",
      "\u001b[91mDTULTMENST\u001b[0m tem \u001b[91m10072\u001b[0m dados missing\n",
      "\u001b[91mSEMAGESTAC\u001b[0m tem \u001b[91m1238\u001b[0m dados missing\n",
      "\u001b[91mTPMETESTIM\u001b[0m tem \u001b[91m1238\u001b[0m dados missing\n",
      "\u001b[91mCONSPRENAT\u001b[0m tem \u001b[91m930\u001b[0m dados missing\n",
      "\u001b[91mMESPRENAT\u001b[0m tem \u001b[91m2867\u001b[0m dados missing\n",
      "\u001b[91mTPAPRESENT\u001b[0m tem \u001b[91m265\u001b[0m dados missing\n",
      "\u001b[91mSTTRABPART\u001b[0m tem \u001b[91m947\u001b[0m dados missing\n",
      "\u001b[91mSTCESPARTO\u001b[0m tem \u001b[91m747\u001b[0m dados missing\n",
      "\u001b[91mTPNASCASSI\u001b[0m tem \u001b[91m61\u001b[0m dados missing\n",
      "\u001b[91mTPFUNCRESP\u001b[0m tem \u001b[91m67\u001b[0m dados missing\n",
      "\u001b[91mTPDOCRESP\u001b[0m tem \u001b[91m14\u001b[0m dados missing\n",
      "\u001b[91mDTDECLARAC\u001b[0m tem \u001b[91m52\u001b[0m dados missing\n",
      "\u001b[91mESCMAEAGR1\u001b[0m tem \u001b[91m249\u001b[0m dados missing\n",
      "\u001b[91mSTDNEPIDEM\u001b[0m tem \u001b[91m0\u001b[0m dados missing\n",
      "\u001b[91mSTDNNOVA\u001b[0m tem \u001b[91m0\u001b[0m dados missing\n",
      "\u001b[91mCODPAISRES\u001b[0m tem \u001b[91m0\u001b[0m dados missing\n",
      "\u001b[91mTPROBSON\u001b[0m tem \u001b[91m0\u001b[0m dados missing\n",
      "\u001b[91mPARIDADE\u001b[0m tem \u001b[91m0\u001b[0m dados missing\n",
      "\u001b[91mKOTELCHUCK\u001b[0m tem \u001b[91m0\u001b[0m dados missing\n",
      "\u001b[91mCONTADOR\u001b[0m tem \u001b[91m0\u001b[0m dados missing\n",
      "\u001b[91mmunResStatus\u001b[0m tem \u001b[91m0\u001b[0m dados missing\n",
      "\u001b[91mmunResTipo\u001b[0m tem \u001b[91m0\u001b[0m dados missing\n",
      "\u001b[91mmunResNome\u001b[0m tem \u001b[91m0\u001b[0m dados missing\n",
      "\u001b[91mmunResUf\u001b[0m tem \u001b[91m0\u001b[0m dados missing\n",
      "\u001b[91mmunResLat\u001b[0m tem \u001b[91m1\u001b[0m dados missing\n",
      "\u001b[91mmunResLon\u001b[0m tem \u001b[91m1\u001b[0m dados missing\n",
      "\u001b[91mmunResAlt\u001b[0m tem \u001b[91m1\u001b[0m dados missing\n",
      "\u001b[91mmunResArea\u001b[0m tem \u001b[91m1\u001b[0m dados missing\n"
     ]
    }
   ],
   "source": [
    "#Podemos tentar melhorar essa visualzação pegando um Dict\n",
    "test = sinasc.isna().sum().to_dict()\n",
    "for key, value in test.items():\n",
    "    print(f\"\\033[91m{key}\\033[0m tem \\033[91m{value}\\033[0m dados missing\")"
   ]
  },
  {
   "cell_type": "code",
   "execution_count": 176,
   "metadata": {},
   "outputs": [],
   "source": [
    "#Poderiamos usar sinasc.info() para observar um pouco da proporção de dados missing"
   ]
  },
  {
   "cell_type": "markdown",
   "metadata": {},
   "source": [
    "### 3)Ok, no item anterior você deve ter achado pouco prático ler a informação de tantas variáveis, muitas delas nem devem ser interesantes. Então crie uma seleção dessa base somente com as colunas que interessam. São elas: ['LOCNASC', 'IDADEMAE', 'ESTCIVMAE', 'ESCMAE', 'QTDFILVIVO', 'GESTACAO', 'GRAVIDEZ', 'CONSULTAS', 'APGAR5'] Refaça a contagem de valores missings."
   ]
  },
  {
   "cell_type": "code",
   "execution_count": 177,
   "metadata": {},
   "outputs": [
    {
     "data": {
      "text/plain": [
       "LOCNASC          0\n",
       "IDADEMAE         0\n",
       "ESTCIVMAE      317\n",
       "ESCMAE         312\n",
       "QTDFILVIVO    1573\n",
       "GESTACAO      1232\n",
       "GRAVIDEZ        79\n",
       "CONSULTAS        0\n",
       "APGAR5         103\n",
       "dtype: int64"
      ]
     },
     "execution_count": 177,
     "metadata": {},
     "output_type": "execute_result"
    }
   ],
   "source": [
    "reduced = sinasc.loc[:,['LOCNASC', 'IDADEMAE', 'ESTCIVMAE', 'ESCMAE', 'QTDFILVIVO', 'GESTACAO', 'GRAVIDEZ', 'CONSULTAS', 'APGAR5']]\n",
    "reduced.isna().sum()"
   ]
  },
  {
   "cell_type": "markdown",
   "metadata": {},
   "source": [
    "### 4) Apgar é uma nota que o pediatra dá ao bebê quando nasce de acordo com algumas características associadas principalmente à respiração. Apgar 1 e Apgar 5 são as notas 1 e 5 minutos do nascimento. Apgar5 será a nossa variável de interesse principal. Então remova todos os registros com Apgar5 não preenchido. Para esta seleção, conte novamente o número de linhas e o número de missings\n"
   ]
  },
  {
   "attachments": {
    "image.png": {
     "image/png": "[encoded data removed]"
    }
   },
   "cell_type": "markdown",
   "metadata": {},
   "source": [
    "![image.png](attachment:image.png)"
   ]
  },
  {
   "cell_type": "code",
   "execution_count": 178,
   "metadata": {},
   "outputs": [],
   "source": [
    "reduced.dropna(subset=['APGAR5'],inplace=True)"
   ]
  },
  {
   "cell_type": "code",
   "execution_count": 179,
   "metadata": {},
   "outputs": [
    {
     "name": "stdout",
     "output_type": "stream",
     "text": [
      "26925 linhas\n"
     ]
    }
   ],
   "source": [
    "print(f\"{reduced.shape[0]} linhas\")"
   ]
  },
  {
   "cell_type": "code",
   "execution_count": 180,
   "metadata": {},
   "outputs": [
    {
     "data": {
      "text/plain": [
       "LOCNASC          0\n",
       "IDADEMAE         0\n",
       "ESTCIVMAE      315\n",
       "ESCMAE         310\n",
       "QTDFILVIVO    1566\n",
       "GESTACAO      1216\n",
       "GRAVIDEZ        76\n",
       "CONSULTAS        0\n",
       "APGAR5           0\n",
       "dtype: int64"
      ]
     },
     "execution_count": 180,
     "metadata": {},
     "output_type": "execute_result"
    }
   ],
   "source": [
    "reduced.isna().sum()"
   ]
  },
  {
   "cell_type": "markdown",
   "metadata": {},
   "source": [
    "### 5) observe que as variáveis ['ESTCIVMAE', 'CONSULTAS'] possuem o código 9, que significa ignorado. Vamos assumir que o não preenchido é o mesmo que o código 9.\n"
   ]
  },
  {
   "cell_type": "code",
   "execution_count": 181,
   "metadata": {
    "scrolled": false
   },
   "outputs": [
    {
     "data": {
      "text/plain": [
       "LOCNASC          0\n",
       "IDADEMAE         0\n",
       "ESTCIVMAE        0\n",
       "ESCMAE         310\n",
       "QTDFILVIVO    1566\n",
       "GESTACAO      1216\n",
       "GRAVIDEZ        76\n",
       "CONSULTAS        0\n",
       "APGAR5           0\n",
       "dtype: int64"
      ]
     },
     "execution_count": 181,
     "metadata": {},
     "output_type": "execute_result"
    }
   ],
   "source": [
    "import numpy as np\n",
    "\n",
    "reduced.loc[reduced['ESTCIVMAE'].isna(), ['ESTCIVMAE']] = 9\n",
    "reduced.loc[reduced['CONSULTAS'].isna(), ['CONSULTAS']] = 9\n",
    "reduced.isna().sum()"
   ]
  },
  {
   "cell_type": "markdown",
   "metadata": {},
   "source": [
    "### 6) Substitua os valores faltantes da quantitativa (QTDFILVIVO) por zero.\n"
   ]
  },
  {
   "cell_type": "code",
   "execution_count": 182,
   "metadata": {},
   "outputs": [],
   "source": [
    "reduced.loc[reduced['QTDFILVIVO'].isna(),['QTDFILVIVO']] = 0"
   ]
  },
  {
   "cell_type": "code",
   "execution_count": 183,
   "metadata": {
    "scrolled": true
   },
   "outputs": [
    {
     "data": {
      "text/html": [
       "<div>\n",
       "<style scoped>\n",
       "    .dataframe tbody tr th:only-of-type {\n",
       "        vertical-align: middle;\n",
       "    }\n",
       "\n",
       "    .dataframe tbody tr th {\n",
       "        vertical-align: top;\n",
       "    }\n",
       "\n",
       "    .dataframe thead th {\n",
       "        text-align: right;\n",
       "    }\n",
       "</style>\n",
       "<table border=\"1\" class=\"dataframe\">\n",
       "  <thead>\n",
       "    <tr style=\"text-align: right;\">\n",
       "      <th></th>\n",
       "      <th>LOCNASC</th>\n",
       "      <th>IDADEMAE</th>\n",
       "      <th>ESTCIVMAE</th>\n",
       "      <th>ESCMAE</th>\n",
       "      <th>QTDFILVIVO</th>\n",
       "      <th>GESTACAO</th>\n",
       "      <th>GRAVIDEZ</th>\n",
       "      <th>CONSULTAS</th>\n",
       "      <th>APGAR5</th>\n",
       "    </tr>\n",
       "  </thead>\n",
       "  <tbody>\n",
       "    <tr>\n",
       "      <th>0</th>\n",
       "      <td>1</td>\n",
       "      <td>19</td>\n",
       "      <td>5.0</td>\n",
       "      <td>8 a 11 anos</td>\n",
       "      <td>0.0</td>\n",
       "      <td>37 a 41 semanas</td>\n",
       "      <td>Única</td>\n",
       "      <td>4</td>\n",
       "      <td>10.0</td>\n",
       "    </tr>\n",
       "    <tr>\n",
       "      <th>3</th>\n",
       "      <td>1</td>\n",
       "      <td>30</td>\n",
       "      <td>5.0</td>\n",
       "      <td>12 anos ou mais</td>\n",
       "      <td>0.0</td>\n",
       "      <td>37 a 41 semanas</td>\n",
       "      <td>Única</td>\n",
       "      <td>3</td>\n",
       "      <td>10.0</td>\n",
       "    </tr>\n",
       "    <tr>\n",
       "      <th>7</th>\n",
       "      <td>1</td>\n",
       "      <td>27</td>\n",
       "      <td>2.0</td>\n",
       "      <td>12 anos ou mais</td>\n",
       "      <td>0.0</td>\n",
       "      <td>37 a 41 semanas</td>\n",
       "      <td>Única</td>\n",
       "      <td>4</td>\n",
       "      <td>10.0</td>\n",
       "    </tr>\n",
       "    <tr>\n",
       "      <th>8</th>\n",
       "      <td>1</td>\n",
       "      <td>20</td>\n",
       "      <td>5.0</td>\n",
       "      <td>8 a 11 anos</td>\n",
       "      <td>0.0</td>\n",
       "      <td>37 a 41 semanas</td>\n",
       "      <td>Única</td>\n",
       "      <td>3</td>\n",
       "      <td>9.0</td>\n",
       "    </tr>\n",
       "    <tr>\n",
       "      <th>12</th>\n",
       "      <td>1</td>\n",
       "      <td>21</td>\n",
       "      <td>5.0</td>\n",
       "      <td>8 a 11 anos</td>\n",
       "      <td>0.0</td>\n",
       "      <td>37 a 41 semanas</td>\n",
       "      <td>Única</td>\n",
       "      <td>4</td>\n",
       "      <td>9.0</td>\n",
       "    </tr>\n",
       "  </tbody>\n",
       "</table>\n",
       "</div>"
      ],
      "text/plain": [
       "    LOCNASC  IDADEMAE  ESTCIVMAE           ESCMAE  QTDFILVIVO  \\\n",
       "0         1        19        5.0      8 a 11 anos         0.0   \n",
       "3         1        30        5.0  12 anos ou mais         0.0   \n",
       "7         1        27        2.0  12 anos ou mais         0.0   \n",
       "8         1        20        5.0      8 a 11 anos         0.0   \n",
       "12        1        21        5.0      8 a 11 anos         0.0   \n",
       "\n",
       "           GESTACAO GRAVIDEZ  CONSULTAS  APGAR5  \n",
       "0   37 a 41 semanas    Única          4    10.0  \n",
       "3   37 a 41 semanas    Única          3    10.0  \n",
       "7   37 a 41 semanas    Única          4    10.0  \n",
       "8   37 a 41 semanas    Única          3     9.0  \n",
       "12  37 a 41 semanas    Única          4     9.0  "
      ]
     },
     "execution_count": 183,
     "metadata": {},
     "output_type": "execute_result"
    }
   ],
   "source": [
    "reduced.loc[reduced['QTDFILVIVO']==0].head()"
   ]
  },
  {
   "cell_type": "markdown",
   "metadata": {},
   "source": [
    "### 7) Das restantes, decida que valore te parece mais adequado (um 'não preenchido' ou um valor 'mais provável' como no item anterior) e preencha. Justifique. Lembre-se de que tratamento de dados é trabalho do cientista, e que estamos tomando decisões a todo o momento - não há necessariamente certo e errado aqui.\n"
   ]
  },
  {
   "cell_type": "code",
   "execution_count": 184,
   "metadata": {
    "scrolled": true
   },
   "outputs": [
    {
     "name": "stdout",
     "output_type": "stream",
     "text": [
      "A proporção de gravidez única antes da alteração é de: 97.89%\n"
     ]
    }
   ],
   "source": [
    "a = reduced['GRAVIDEZ'].value_counts().tolist()\n",
    "print(f\"A proporção de gravidez única antes da alteração é de: {round((a[0]/reduced.shape[0])*100,2)}%\")"
   ]
  },
  {
   "cell_type": "code",
   "execution_count": 185,
   "metadata": {},
   "outputs": [],
   "source": [
    "reduced.loc[reduced['GRAVIDEZ'].isna(),'GRAVIDEZ'] = 'Única'"
   ]
  },
  {
   "cell_type": "code",
   "execution_count": 186,
   "metadata": {},
   "outputs": [
    {
     "name": "stdout",
     "output_type": "stream",
     "text": [
      "A proporção de gravidez única depois da alteração é de: 98.17%\n"
     ]
    }
   ],
   "source": [
    "a = reduced['GRAVIDEZ'].value_counts().tolist()\n",
    "print(f\"A proporção de gravidez única depois da alteração é de: {round((a[0]/reduced.shape[0])*100,2)}%\")"
   ]
  },
  {
   "cell_type": "code",
   "execution_count": 187,
   "metadata": {},
   "outputs": [
    {
     "name": "stdout",
     "output_type": "stream",
     "text": [
      "Teve uma variação de 0.28%\n",
      "\n",
      "Ou seja, não vai fazer diferença na nossa base caso precisamos fazer alguma análise.\n",
      "O que fiz foi pegar os dados vazios e transformar para gravidez única, já que a variação é bem pouca. \n"
     ]
    }
   ],
   "source": [
    "print(f\"Teve uma variação de {round(98.17 - 97.89,3)}%\\n\\nOu seja, não vai fazer diferença na nossa base caso precisamos fazer alguma análise.\\nO que fiz foi pegar os dados vazios e transformar para gravidez única, já que a variação é bem pouca. \")"
   ]
  },
  {
   "cell_type": "markdown",
   "metadata": {},
   "source": [
    "### 8)O Apgar possui uma classificação indicando se o bebê passou por asfixia:\n",
    "\n",
    "* Entre 8 e 10 está em uma faixa 'normal'.\n",
    "* Entre 6 e 7, significa que o recém-nascido passou por 'asfixia leve'.\n",
    "* Entre 4 e 5 significa 'asfixia moderada'.\n",
    "* Entre 0 e 3 significa 'asfixia severa'\n"
   ]
  },
  {
   "cell_type": "markdown",
   "metadata": {},
   "source": [
    "Crie uma categorização dessa variável com essa codificação e calcule as frequências dessa categorização."
   ]
  },
  {
   "cell_type": "code",
   "execution_count": 188,
   "metadata": {},
   "outputs": [
    {
     "data": {
      "text/html": [
       "<div>\n",
       "<style scoped>\n",
       "    .dataframe tbody tr th:only-of-type {\n",
       "        vertical-align: middle;\n",
       "    }\n",
       "\n",
       "    .dataframe tbody tr th {\n",
       "        vertical-align: top;\n",
       "    }\n",
       "\n",
       "    .dataframe thead th {\n",
       "        text-align: right;\n",
       "    }\n",
       "</style>\n",
       "<table border=\"1\" class=\"dataframe\">\n",
       "  <thead>\n",
       "    <tr style=\"text-align: right;\">\n",
       "      <th></th>\n",
       "      <th>LOCNASC</th>\n",
       "      <th>IDADEMAE</th>\n",
       "      <th>ESTCIVMAE</th>\n",
       "      <th>ESCMAE</th>\n",
       "      <th>QTDFILVIVO</th>\n",
       "      <th>GESTACAO</th>\n",
       "      <th>GRAVIDEZ</th>\n",
       "      <th>CONSULTAS</th>\n",
       "      <th>APGAR5</th>\n",
       "      <th>Asfixia apgar5</th>\n",
       "    </tr>\n",
       "  </thead>\n",
       "  <tbody>\n",
       "    <tr>\n",
       "      <th>0</th>\n",
       "      <td>1</td>\n",
       "      <td>19</td>\n",
       "      <td>5.0</td>\n",
       "      <td>8 a 11 anos</td>\n",
       "      <td>0.0</td>\n",
       "      <td>37 a 41 semanas</td>\n",
       "      <td>Única</td>\n",
       "      <td>4</td>\n",
       "      <td>10.0</td>\n",
       "      <td>NORMAL</td>\n",
       "    </tr>\n",
       "    <tr>\n",
       "      <th>1</th>\n",
       "      <td>1</td>\n",
       "      <td>29</td>\n",
       "      <td>2.0</td>\n",
       "      <td>8 a 11 anos</td>\n",
       "      <td>1.0</td>\n",
       "      <td>37 a 41 semanas</td>\n",
       "      <td>Única</td>\n",
       "      <td>4</td>\n",
       "      <td>9.0</td>\n",
       "      <td>NORMAL</td>\n",
       "    </tr>\n",
       "    <tr>\n",
       "      <th>2</th>\n",
       "      <td>1</td>\n",
       "      <td>37</td>\n",
       "      <td>9.0</td>\n",
       "      <td>8 a 11 anos</td>\n",
       "      <td>2.0</td>\n",
       "      <td>37 a 41 semanas</td>\n",
       "      <td>Única</td>\n",
       "      <td>4</td>\n",
       "      <td>10.0</td>\n",
       "      <td>NORMAL</td>\n",
       "    </tr>\n",
       "    <tr>\n",
       "      <th>3</th>\n",
       "      <td>1</td>\n",
       "      <td>30</td>\n",
       "      <td>5.0</td>\n",
       "      <td>12 anos ou mais</td>\n",
       "      <td>0.0</td>\n",
       "      <td>37 a 41 semanas</td>\n",
       "      <td>Única</td>\n",
       "      <td>3</td>\n",
       "      <td>10.0</td>\n",
       "      <td>NORMAL</td>\n",
       "    </tr>\n",
       "    <tr>\n",
       "      <th>4</th>\n",
       "      <td>1</td>\n",
       "      <td>30</td>\n",
       "      <td>2.0</td>\n",
       "      <td>8 a 11 anos</td>\n",
       "      <td>1.0</td>\n",
       "      <td>37 a 41 semanas</td>\n",
       "      <td>Única</td>\n",
       "      <td>4</td>\n",
       "      <td>10.0</td>\n",
       "      <td>NORMAL</td>\n",
       "    </tr>\n",
       "  </tbody>\n",
       "</table>\n",
       "</div>"
      ],
      "text/plain": [
       "   LOCNASC  IDADEMAE  ESTCIVMAE           ESCMAE  QTDFILVIVO         GESTACAO  \\\n",
       "0        1        19        5.0      8 a 11 anos         0.0  37 a 41 semanas   \n",
       "1        1        29        2.0      8 a 11 anos         1.0  37 a 41 semanas   \n",
       "2        1        37        9.0      8 a 11 anos         2.0  37 a 41 semanas   \n",
       "3        1        30        5.0  12 anos ou mais         0.0  37 a 41 semanas   \n",
       "4        1        30        2.0      8 a 11 anos         1.0  37 a 41 semanas   \n",
       "\n",
       "  GRAVIDEZ  CONSULTAS  APGAR5 Asfixia apgar5  \n",
       "0    Única          4    10.0         NORMAL  \n",
       "1    Única          4     9.0         NORMAL  \n",
       "2    Única          4    10.0         NORMAL  \n",
       "3    Única          3    10.0         NORMAL  \n",
       "4    Única          4    10.0         NORMAL  "
      ]
     },
     "execution_count": 188,
     "metadata": {},
     "output_type": "execute_result"
    }
   ],
   "source": [
    "# 8) seu código aqui\n",
    "reduced.loc[reduced['APGAR5'] <= 3, 'Asfixia apgar5'] = 'SEVERA'\n",
    "reduced.loc[(reduced['APGAR5']>3) & (reduced['APGAR5']<=5),'Asfixia apgar5'] = 'MODERADA'\n",
    "reduced.loc[(reduced['APGAR5']>=6) & (reduced['APGAR5']<8),'Asfixia apgar5'] = 'LEVE'\n",
    "reduced.loc[(reduced['APGAR5']>=8),'Asfixia apgar5'] = 'NORMAL'\n",
    "reduced.head()"
   ]
  },
  {
   "cell_type": "code",
   "execution_count": 189,
   "metadata": {},
   "outputs": [
    {
     "data": {
      "text/plain": [
       "NORMAL      26463\n",
       "LEVE          320\n",
       "SEVERA         74\n",
       "MODERADA       68\n",
       "Name: Asfixia apgar5, dtype: int64"
      ]
     },
     "execution_count": 189,
     "metadata": {},
     "output_type": "execute_result"
    }
   ],
   "source": [
    "reduced['Asfixia apgar5'].value_counts()"
   ]
  },
  {
   "cell_type": "code",
   "execution_count": 190,
   "metadata": {},
   "outputs": [],
   "source": [
    "#pd.get_dummies(reduced['APGAR5'])"
   ]
  },
  {
   "cell_type": "markdown",
   "metadata": {},
   "source": [
    "### 9) Renomeie as variáveis para que fiquem no snake case, ou seja, em letras minúsculas, com um underscore entre as palávras. Dica: repare que se você não quiser criar um dataframe novo, você vai precisar usar a opção inplace = True."
   ]
  },
  {
   "cell_type": "code",
   "execution_count": 191,
   "metadata": {},
   "outputs": [
    {
     "data": {
      "text/plain": [
       "Index(['LOCNASC', 'IDADEMAE', 'ESTCIVMAE', 'ESCMAE', 'QTDFILVIVO', 'GESTACAO',\n",
       "       'GRAVIDEZ', 'CONSULTAS', 'APGAR5', 'Asfixia apgar5'],\n",
       "      dtype='object')"
      ]
     },
     "execution_count": 191,
     "metadata": {},
     "output_type": "execute_result"
    }
   ],
   "source": [
    "# 9) seu código aqui\n",
    "reduced.columns"
   ]
  },
  {
   "cell_type": "markdown",
   "metadata": {},
   "source": [
    "**Primeira maneira que eu pensei**"
   ]
  },
  {
   "cell_type": "code",
   "execution_count": 192,
   "metadata": {},
   "outputs": [],
   "source": [
    "new_columns = [x.lower() if not ' ' in x else x.replace(' ','_').lower() for x in reduced.columns.tolist()]\n",
    "reduced.columns = new_columns"
   ]
  },
  {
   "cell_type": "code",
   "execution_count": 193,
   "metadata": {
    "scrolled": true
   },
   "outputs": [
    {
     "data": {
      "text/html": [
       "<div>\n",
       "<style scoped>\n",
       "    .dataframe tbody tr th:only-of-type {\n",
       "        vertical-align: middle;\n",
       "    }\n",
       "\n",
       "    .dataframe tbody tr th {\n",
       "        vertical-align: top;\n",
       "    }\n",
       "\n",
       "    .dataframe thead th {\n",
       "        text-align: right;\n",
       "    }\n",
       "</style>\n",
       "<table border=\"1\" class=\"dataframe\">\n",
       "  <thead>\n",
       "    <tr style=\"text-align: right;\">\n",
       "      <th></th>\n",
       "      <th>locnasc</th>\n",
       "      <th>idademae</th>\n",
       "      <th>estcivmae</th>\n",
       "      <th>escmae</th>\n",
       "      <th>qtdfilvivo</th>\n",
       "      <th>gestacao</th>\n",
       "      <th>gravidez</th>\n",
       "      <th>consultas</th>\n",
       "      <th>apgar5</th>\n",
       "      <th>asfixia_apgar5</th>\n",
       "    </tr>\n",
       "  </thead>\n",
       "  <tbody>\n",
       "    <tr>\n",
       "      <th>0</th>\n",
       "      <td>1</td>\n",
       "      <td>19</td>\n",
       "      <td>5.0</td>\n",
       "      <td>8 a 11 anos</td>\n",
       "      <td>0.0</td>\n",
       "      <td>37 a 41 semanas</td>\n",
       "      <td>Única</td>\n",
       "      <td>4</td>\n",
       "      <td>10.0</td>\n",
       "      <td>NORMAL</td>\n",
       "    </tr>\n",
       "    <tr>\n",
       "      <th>1</th>\n",
       "      <td>1</td>\n",
       "      <td>29</td>\n",
       "      <td>2.0</td>\n",
       "      <td>8 a 11 anos</td>\n",
       "      <td>1.0</td>\n",
       "      <td>37 a 41 semanas</td>\n",
       "      <td>Única</td>\n",
       "      <td>4</td>\n",
       "      <td>9.0</td>\n",
       "      <td>NORMAL</td>\n",
       "    </tr>\n",
       "    <tr>\n",
       "      <th>2</th>\n",
       "      <td>1</td>\n",
       "      <td>37</td>\n",
       "      <td>9.0</td>\n",
       "      <td>8 a 11 anos</td>\n",
       "      <td>2.0</td>\n",
       "      <td>37 a 41 semanas</td>\n",
       "      <td>Única</td>\n",
       "      <td>4</td>\n",
       "      <td>10.0</td>\n",
       "      <td>NORMAL</td>\n",
       "    </tr>\n",
       "    <tr>\n",
       "      <th>3</th>\n",
       "      <td>1</td>\n",
       "      <td>30</td>\n",
       "      <td>5.0</td>\n",
       "      <td>12 anos ou mais</td>\n",
       "      <td>0.0</td>\n",
       "      <td>37 a 41 semanas</td>\n",
       "      <td>Única</td>\n",
       "      <td>3</td>\n",
       "      <td>10.0</td>\n",
       "      <td>NORMAL</td>\n",
       "    </tr>\n",
       "    <tr>\n",
       "      <th>4</th>\n",
       "      <td>1</td>\n",
       "      <td>30</td>\n",
       "      <td>2.0</td>\n",
       "      <td>8 a 11 anos</td>\n",
       "      <td>1.0</td>\n",
       "      <td>37 a 41 semanas</td>\n",
       "      <td>Única</td>\n",
       "      <td>4</td>\n",
       "      <td>10.0</td>\n",
       "      <td>NORMAL</td>\n",
       "    </tr>\n",
       "  </tbody>\n",
       "</table>\n",
       "</div>"
      ],
      "text/plain": [
       "   locnasc  idademae  estcivmae           escmae  qtdfilvivo         gestacao  \\\n",
       "0        1        19        5.0      8 a 11 anos         0.0  37 a 41 semanas   \n",
       "1        1        29        2.0      8 a 11 anos         1.0  37 a 41 semanas   \n",
       "2        1        37        9.0      8 a 11 anos         2.0  37 a 41 semanas   \n",
       "3        1        30        5.0  12 anos ou mais         0.0  37 a 41 semanas   \n",
       "4        1        30        2.0      8 a 11 anos         1.0  37 a 41 semanas   \n",
       "\n",
       "  gravidez  consultas  apgar5 asfixia_apgar5  \n",
       "0    Única          4    10.0         NORMAL  \n",
       "1    Única          4     9.0         NORMAL  \n",
       "2    Única          4    10.0         NORMAL  \n",
       "3    Única          3    10.0         NORMAL  \n",
       "4    Única          4    10.0         NORMAL  "
      ]
     },
     "execution_count": 193,
     "metadata": {},
     "output_type": "execute_result"
    }
   ],
   "source": [
    "reduced.head()"
   ]
  },
  {
   "cell_type": "markdown",
   "metadata": {},
   "source": [
    "***Depois de procurar, vi que consigo adicionar uma função no 'columns', o que fica bem mais legível pra quem não entende o List Comprehensions e sabe de funções. Ficaria assim: ***\n",
    "***\n",
    "```df.rename(columns=lambda x: x.lower().replace(\" \",\"_\"),inplace=True)```\n",
    "***"
   ]
  }
 ],
 "metadata": {
  "kernelspec": {
   "display_name": "Python 3 (ipykernel)",
   "language": "python",
   "name": "python3"
  },
  "language_info": {
   "codemirror_mode": {
    "name": "ipython",
    "version": 3
   },
   "file_extension": ".py",
   "mimetype": "text/x-python",
   "name": "python",
   "nbconvert_exporter": "python",
   "pygments_lexer": "ipython3",
   "version": "3.9.13"
  }
 },
 "nbformat": 4,
 "nbformat_minor": 4
}
