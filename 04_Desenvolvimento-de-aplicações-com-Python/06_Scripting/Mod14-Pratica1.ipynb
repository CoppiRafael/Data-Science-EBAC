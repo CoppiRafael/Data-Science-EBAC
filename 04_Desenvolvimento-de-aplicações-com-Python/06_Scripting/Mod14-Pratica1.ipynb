{
 "cells": [
  {
   "cell_type": "markdown",
   "id": "65ec79d7",
   "metadata": {},
   "source": [
    "# EXERCICIO"
   ]
  },
  {
   "cell_type": "code",
   "execution_count": 40,
   "id": "f9466810",
   "metadata": {},
   "outputs": [],
   "source": [
    "import pandas as pd\n",
    "import numpy as np\n",
    "import matplotlib.pyplot as plt\n",
    "import seaborn as sns\n",
    "import os \n",
    "\n",
    "def plota_pivot_table(df, value, index, func, ylabel, xlabel, opcao='nada'):\n",
    "    if opcao == 'nada':\n",
    "        pd.pivot_table(df, values=value, index=index,\n",
    "                       aggfunc=func).plot(figsize=[15, 5])\n",
    "    elif opcao == 'sort':\n",
    "        pd.pivot_table(df, values=value, index=index,\n",
    "                       aggfunc=func).sort_values(value).plot(figsize=[15, 5])\n",
    "    elif opcao == 'unstack':\n",
    "        pd.pivot_table(df, values=value, index=index,\n",
    "                       aggfunc=func).unstack().plot(figsize=[15, 5])\n",
    "    plt.ylabel(ylabel)\n",
    "    plt.xlabel(xlabel)\n",
    "    return None\n",
    "\n",
    "def load_data(mes:int,ano:int):\n",
    "    meses_map = {1: 'JAN', 2: 'FEV', 3: 'MAR', 4: 'ABR', 5: 'MAI', 6: 'JUN', 7: 'JUL', 8: 'AGO', 9: 'SET', 10: 'OUT', 11: 'NOV', 12: 'DEZ'}\n",
    "    nome_mes = meses_map[mes]\n",
    "    nome_arquivo = f'SINASC_RO_{ano}_{nome_mes}.csv'\n",
    "    df = pd.read_csv(nome_arquivo)\n",
    "    df['DTNASC'] = pd.to_datetime(df['DTNASC'])\n",
    "    df['MES_ANO'] = df['DTNASC'].apply(lambda x: x.strftime('%Y-%m'))\n",
    "    return df\n",
    "\n",
    "\n",
    "# Lista de meses/anos desejados\n",
    "meses_anos = [(3, 2019), (4, 2019), (5, 2019), (6, 2019), (12, 2019)]\n",
    "\n",
    "for mes,ano in meses_anos:\n",
    "    df_data = load_data(mes,ano)\n",
    "    max_data = df_data.MES_ANO.max()\n",
    "    os.makedirs('./output/figs/'+max_data)\n",
    "\n",
    "    plota_pivot_table(df_data, 'IDADEMAE', ['DTNASC', 'SEXO'], 'mean', 'media idade mae','data de nascimento','unstack')\n",
    "    plt.savefig('./output/figs/'+max_data+'/media idade mae por sexo.png')\n",
    "    plt.close()\n",
    "\n",
    "    plota_pivot_table(df_data, 'PESO', ['DTNASC', 'SEXO'], 'mean', 'media peso bebe','data de nascimento','unstack')\n",
    "    plt.savefig('./output/figs/'+max_data+'/media peso bebe por sexo.png')\n",
    "    plt.close()\n",
    "\n",
    "    plota_pivot_table(df_data, 'PESO', 'ESCMAE', 'median', 'apgar1 medio','gestacao','sort')\n",
    "    plt.savefig('./output/figs/'+max_data+'/media apgar1 por escolaridade mae.png')\n",
    "    plt.close()\n",
    "\n",
    "    plota_pivot_table(df_data, 'APGAR1', 'GESTACAO', 'mean', 'apgar1 medio','gestacao','sort')\n",
    "    plt.savefig('./output/figs/'+max_data+'/media apgar1 por gestacao.png')\n",
    "    plt.close()\n",
    "\n",
    "    plota_pivot_table(df_data, 'APGAR5', 'GESTACAO', 'mean', 'apgar5 medio','gestacao','sort')\n",
    "    plt.savefig('./output/figs/'+max_data+'/media apgar5 por gestacao.png')\n",
    "    plt.close()\n",
    "\n"
   ]
  },
  {
   "cell_type": "markdown",
   "id": "d84c740e",
   "metadata": {},
   "source": [
    "Não cons"
   ]
  }
 ],
 "metadata": {
  "kernelspec": {
   "display_name": "Python 3 (ipykernel)",
   "language": "python",
   "name": "python3"
  },
  "language_info": {
   "codemirror_mode": {
    "name": "ipython",
    "version": 3
   },
   "file_extension": ".py",
   "mimetype": "text/x-python",
   "name": "python",
   "nbconvert_exporter": "python",
   "pygments_lexer": "ipython3",
   "version": "3.9.13"
  }
 },
 "nbformat": 4,
 "nbformat_minor": 5
}
