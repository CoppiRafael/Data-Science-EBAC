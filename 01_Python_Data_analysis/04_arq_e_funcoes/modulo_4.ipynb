{
  "nbformat": 4,
  "nbformat_minor": 0,
  "metadata": {
    "colab": {
      "provenance": []
    },
    "kernelspec": {
      "name": "python3",
      "display_name": "Python 3"
    },
    "language_info": {
      "name": "python"
    }
  },
  "cells": [
    {
      "cell_type": "markdown",
      "source": [
        "# **Exercícios**"
      ],
      "metadata": {
        "id": "iE7wBtD_Crg2"
      }
    },
    {
      "cell_type": "markdown",
      "source": [
        "## 0\\. Preparação do ambiente"
      ],
      "metadata": {
        "id": "7NGWqxXkC1hF"
      }
    },
    {
      "cell_type": "markdown",
      "source": [
        "Neste exercício vamos trabalhar com os arquivos de csv e texto definidos abaixo. Execute cada uma das células de código para escrever os arquivos na sua máquina virtual."
      ],
      "metadata": {
        "id": "kpDnQ02LC2Q-"
      }
    },
    {
      "cell_type": "markdown",
      "source": [
        "* **carros.csv**: arquivo csv com informações sobre carros (venda, manutenção, portas, etc.)."
      ],
      "metadata": {
        "id": "dD910BEXC_FE"
      }
    },
    {
      "cell_type": "code",
      "source": [
        "%%writefile carros.csv\n",
        "id,valor_venda,valor_manutencao,portas,pessoas,porta_malas\n",
        "1,vhigh,med,2,2,small\n",
        "2,med,vhigh,2,2,small\n",
        "3,low,vhigh,2,2,small\n",
        "4,low,high,2,2,small\n",
        "5,low,high,2,2,small\n",
        "6,low,high,4,4,big\n",
        "7,low,high,4,4,big\n",
        "8,low,med,2,2,small\n",
        "9,low,med,2,2,small\n",
        "10,low,med,2,2,small\n",
        "11,low,med,4,4,big\n",
        "12,low,low,2,2,small\n",
        "13,low,low,4,4,small\n",
        "14,low,low,4,4,med"
      ],
      "metadata": {
        "id": "BBrrx3A-DFyE",
        "outputId": "52ab4fc9-ca6a-462e-c515-d113323c36c0",
        "colab": {
          "base_uri": "https://localhost:8080/"
        }
      },
      "execution_count": 48,
      "outputs": [
        {
          "output_type": "stream",
          "name": "stdout",
          "text": [
            "Overwriting carros.csv\n"
          ]
        }
      ]
    },
    {
      "cell_type": "markdown",
      "source": [
        "* **musica.txt**: arquivo texto com a letra da música Roda Viva do Chico Buarque."
      ],
      "metadata": {
        "id": "idWaCc28DPQ7"
      }
    },
    {
      "cell_type": "code",
      "source": [
        "%%writefile musica.txt\n",
        "Roda Viva\n",
        "Chico Buarque\n",
        "Tem dias que a gente se sente\n",
        "Como quem partiu ou morreu\n",
        "A gente estancou de repente\n",
        "Ou foi o mundo então que cresceu\n",
        "A gente quer ter voz ativa\n",
        "No nosso destino mandar\n",
        "Mas eis que chega a roda viva\n",
        "E carrega o destino pra lá\n",
        "Roda mundo, roda-gigante\n",
        "Roda moinho, roda pião\n",
        "O tempo rodou num instante\n",
        "Nas voltas do meu coração\n",
        "A gente vai contra a corrente\n",
        "Até não poder resistir\n",
        "Na volta do barco é que sente\n",
        "O quanto deixou de cumprir\n",
        "Faz tempo que a gente cultiva\n",
        "A mais linda roseira que há\n",
        "Mas eis que chega a roda viva\n",
        "E carrega a roseira pra lá\n",
        "Roda mundo, roda-gigante\n",
        "Roda moinho, roda pião"
      ],
      "metadata": {
        "id": "-3CHJCTkDSBT",
        "outputId": "a8389cb4-51e5-4927-fe77-d5b4dde772e3",
        "colab": {
          "base_uri": "https://localhost:8080/"
        }
      },
      "execution_count": 47,
      "outputs": [
        {
          "output_type": "stream",
          "name": "stdout",
          "text": [
            "Overwriting musica.txt\n"
          ]
        }
      ]
    },
    {
      "cell_type": "markdown",
      "source": [
        "## 1. Extração de coluna de arquivo csv "
      ],
      "metadata": {
        "id": "FjsQAuIpDTRE"
      }
    },
    {
      "cell_type": "markdown",
      "source": [
        "1.1. Extraia os valores `valor_venda` e armazena em uma lista."
      ],
      "metadata": {
        "id": "GeN_St_xDVz7"
      }
    },
    {
      "cell_type": "code",
      "source": [
        "valor_venda = []\n",
        "\n",
        "with open(file='./carros.csv', mode='r', encoding='utf8') as arquivo:\n",
        "    # lê o cabeçalho\n",
        "    linha = arquivo.readline().strip('\\n')\n",
        "    # lê a primeira linha\n",
        "    linha = arquivo.readline().rstrip('\\n')\n",
        "    while linha:\n",
        "        # quebra a string nas virgulas e salva os resultados em uma lista\n",
        "        info = linha.split(',')\n",
        "        # seleciona o segundo elemento da lista\n",
        "        value_2 = info[1]\n",
        "        # salva o valor na lista de valor_venda\n",
        "        valor_venda.append(value_2)\n",
        "        # lê uma nova linha, se a linha não existir, salva o valor None\n",
        "        linha = arquivo.readline().rstrip('\\n')\n",
        "      \n",
        "\n",
        "print(valor_venda)"
      ],
      "metadata": {
        "colab": {
          "base_uri": "https://localhost:8080/"
        },
        "id": "4H-8FqU9DZCL",
        "outputId": "b79b6495-4913-4b12-9b82-4c67f2207451"
      },
      "execution_count": 49,
      "outputs": [
        {
          "output_type": "stream",
          "name": "stdout",
          "text": [
            "['vhigh', 'med', 'low', 'low', 'low', 'low', 'low', 'low', 'low', 'low', 'low', 'low', 'low', 'low']\n"
          ]
        }
      ]
    },
    {
      "cell_type": "markdown",
      "source": [
        "1.2 Complete a função abaixo para extrair uma coluna, do arquivo csv em uma lista.\n"
      ],
      "metadata": {
        "id": "9HbtktpGE1c5"
      }
    },
    {
      "cell_type": "code",
      "source": [
        "def extrai_coluna_csv(nome_arquivo, indice_coluna):\n",
        "  coluna = []\n",
        "  #leia o arquivo com o comando 'with' utilizando o parametro 'nome_arquivo'\n",
        "  with open(nome_arquivo,'r', encoding='UTF-8') as arquivo:\n",
        "      linha = arquivo.readline().strip('\\n')  \n",
        "      linha = arquivo.readline().rstrip('\\n')\n",
        "       # extraia a coluna do arquivo utilizando o parametro 'indice_coluna'\n",
        "      while linha:\n",
        "        info = linha.split(',')\n",
        "        value = info[indice_coluna] \n",
        "        coluna.append(value)\n",
        "        linha = arquivo.readline().rstrip('\\n')\n",
        "         \n",
        "  return coluna\n",
        "\n"
      ],
      "metadata": {
        "id": "QUj54SiaE1Is"
      },
      "execution_count": 51,
      "outputs": []
    },
    {
      "cell_type": "markdown",
      "source": [
        "testando a função com os códigos abaixo."
      ],
      "metadata": {
        "id": "VSaSfdWvG5_H"
      }
    },
    {
      "cell_type": "code",
      "source": [
        "# extrair a coluna porta_malas\n",
        "porta_malas = extrai_coluna_csv(nome_arquivo='./carros.csv', indice_coluna=5)\n",
        "print(porta_malas) # deve retornar ['small', 'small', 'small', ...]"
      ],
      "metadata": {
        "colab": {
          "base_uri": "https://localhost:8080/"
        },
        "id": "Ce9MqpO3Fpv3",
        "outputId": "48066ef7-385f-41ae-cfaa-0ce70a6fb4ad"
      },
      "execution_count": 52,
      "outputs": [
        {
          "output_type": "stream",
          "name": "stdout",
          "text": [
            "['small', 'small', 'small', 'small', 'small', 'big', 'big', 'small', 'small', 'small', 'big', 'small', 'small', 'med']\n"
          ]
        }
      ]
    },
    {
      "cell_type": "code",
      "source": [
        "# extrair a coluna valor_manutencao\n",
        "valor_manutencao = extrai_coluna_csv(nome_arquivo='./carros.csv', indice_coluna=2)\n",
        "print(valor_manutencao) # deve retornar ['med', 'vhigh', 'vhigh', ...]"
      ],
      "metadata": {
        "colab": {
          "base_uri": "https://localhost:8080/"
        },
        "id": "c7P7FnY4FoUo",
        "outputId": "3486e3d2-d15e-460e-b9bc-4e220c098a53"
      },
      "execution_count": 53,
      "outputs": [
        {
          "output_type": "stream",
          "name": "stdout",
          "text": [
            "['med', 'vhigh', 'vhigh', 'high', 'high', 'high', 'high', 'med', 'med', 'med', 'med', 'low', 'low', 'low']\n"
          ]
        }
      ]
    },
    {
      "cell_type": "markdown",
      "source": [
        "# Exercício bônus"
      ],
      "metadata": {
        "id": "XW7xheEKHFGU"
      }
    },
    {
      "cell_type": "markdown",
      "source": [
        "## 1\\. Funções para arquivo csv"
      ],
      "metadata": {
        "id": "i_dJmMBhHKMk"
      }
    },
    {
      "cell_type": "markdown",
      "source": [
        "Complete a função abaixo para extrair uma coluna do arquivo csv em uma lista. Os elementos devem ter o tipo de dado correto."
      ],
      "metadata": {
        "id": "Jx9oL7GBHL3D"
      }
    },
    {
      "cell_type": "code",
      "source": [
        "def extrai_coluna_csv(nome, indice, tipo_dado):\n",
        "\n",
        "  coluna = []\n",
        "\n",
        "  # leia o arquivo com o comando 'with' utilizando o parametro 'nome_arquivo'\n",
        "  with open(nome,'r',encoding='UTF-8') as arquivo:\n",
        "  # extraia a coluna do arquivo utilizando o parametro 'indice_coluna'\n",
        "    linha = arquivo.readline().rstrip('\\n')\n",
        "    linha = arquivo.readline().rstrip('\\n')\n",
        "    while linha != '':\n",
        "      info = linha.split(',')\n",
        "      value = info[indice] \n",
        "      \"\"\"use a estrutura de decisão if/elif/else para fazer a conversão do \n",
        "        tipo de dados utilizando o parametro 'tipo_dado' \"\"\"\n",
        "      if tipo_dado == 'str' :\n",
        "        value = str(value)\n",
        "        coluna.append(value)\n",
        "        linha = arquivo.readline().rstrip('\\n')\n",
        "      elif tipo_dado == 'int':\n",
        "        value = int(value)\n",
        "        coluna.append(value)\n",
        "        linha = arquivo.readline().rstrip('\\n')  \n",
        "\n",
        "  return coluna"
      ],
      "metadata": {
        "id": "6Uf5LXc_HOW7"
      },
      "execution_count": 54,
      "outputs": []
    },
    {
      "cell_type": "code",
      "source": [
        "# extrair a coluna pessoas\n",
        "pessoas = extrai_coluna_csv('carros.csv', 4, 'int' )\n",
        "print(pessoas) # deve retornar [2, 2, 2, ...]"
      ],
      "metadata": {
        "colab": {
          "base_uri": "https://localhost:8080/"
        },
        "id": "D0MImIeWHTkT",
        "outputId": "95deddcf-7e60-4021-f035-4b4c9fe2f730"
      },
      "execution_count": 55,
      "outputs": [
        {
          "output_type": "stream",
          "name": "stdout",
          "text": [
            "[2, 2, 2, 2, 2, 4, 4, 2, 2, 2, 4, 2, 4, 4]\n"
          ]
        }
      ]
    },
    {
      "cell_type": "code",
      "source": [
        "# extrair a coluna valor_venda\n",
        "valor_venda = extrai_coluna_csv(nome='./carros.csv', indice=1, tipo_dado='str')\n",
        "print(valor_venda) # deve retornar ['vhigh', 'med', 'low', ...]"
      ],
      "metadata": {
        "colab": {
          "base_uri": "https://localhost:8080/"
        },
        "id": "wf0AlFVHMFnM",
        "outputId": "12bf5337-f276-4ef9-c725-55388eb141f1"
      },
      "execution_count": 56,
      "outputs": [
        {
          "output_type": "stream",
          "name": "stdout",
          "text": [
            "['vhigh', 'med', 'low', 'low', 'low', 'low', 'low', 'low', 'low', 'low', 'low', 'low', 'low', 'low']\n"
          ]
        }
      ]
    },
    {
      "cell_type": "markdown",
      "source": [
        "## 2\\. Funções para arquivo txt"
      ],
      "metadata": {
        "id": "zZNUyLZpHVTD"
      }
    },
    {
      "cell_type": "markdown",
      "source": [
        "Complete a função abaixo para extrair uma as palavras de uma linha do arquivo txt em uma lista."
      ],
      "metadata": {
        "id": "6lnEqntMHXHj"
      }
    },
    {
      "cell_type": "code",
      "source": [
        "#Tive que alterar o arquivo 'musica.txt' pois havia linhas em branco usadas para\n",
        "#separar estrofes em que eu não soube trabalhar. Gostaria muito de saber como trabalhar\n",
        "#com arquivos que tenha essa separação de estrofes, para poder junta-los. Ficaria\n",
        "#agradecido se essa dúvida fosse sanada.\n",
        "\n",
        "def extrai_linha(arq,linea):\n",
        "\n",
        "  palavras_linha = []\n",
        "  \n",
        "  with open(arq,'r',encoding='UTF-8') as arquivo:\n",
        "    linha = arquivo.readline().rstrip('\\n')\n",
        "    while linha:\n",
        "      txt = linha.split(' ')\n",
        "      palavras_linha.append(txt)\n",
        "      linha = arquivo.readline().rstrip('\\n')\n",
        "\n",
        "  info = palavras_linha[(linea-1)]\n",
        "\n",
        "\n",
        "  return info"
      ],
      "metadata": {
        "id": "YGH9jQ2qHZg7"
      },
      "execution_count": 57,
      "outputs": []
    },
    {
      "cell_type": "markdown",
      "source": [
        "Testando a função com o código abaixo:"
      ],
      "metadata": {
        "id": "G7O_M58vHdha"
      }
    },
    {
      "cell_type": "code",
      "source": [
        "\n",
        "print(extrai_linha('musica.txt',10)) \n",
        "#devido a alteração no arquivo a linha 10 que antigamente teria q retornar:\n",
        "#['Mas', 'eis', 'que', 'chega', 'a', 'roda', 'viva']\n",
        "#Agora retornará:\n",
        "#['E','carrega','o','destino','pra','lá']"
      ],
      "metadata": {
        "colab": {
          "base_uri": "https://localhost:8080/"
        },
        "id": "IMelX1MFX9Qw",
        "outputId": "961fe77b-dd62-4c6f-a583-10e505f4f8f5"
      },
      "execution_count": 58,
      "outputs": [
        {
          "output_type": "stream",
          "name": "stdout",
          "text": [
            "['E', 'carrega', 'o', 'destino', 'pra', 'lá']\n"
          ]
        }
      ]
    }
  ]
}