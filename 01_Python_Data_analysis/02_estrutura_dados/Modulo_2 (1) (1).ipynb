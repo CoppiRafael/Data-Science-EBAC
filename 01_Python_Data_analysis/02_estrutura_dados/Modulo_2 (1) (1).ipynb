{
  "nbformat": 4,
  "nbformat_minor": 0,
  "metadata": {
    "colab": {
      "provenance": [],
      "toc_visible": true
    },
    "kernelspec": {
      "name": "python3",
      "display_name": "Python 3"
    },
    "language_info": {
      "name": "python"
    }
  },
  "cells": [
    {
      "cell_type": "markdown",
      "source": [
        "## 1\\. Listas\n",
        "  Criei uma lista chamada `filmes` com o nome dos 10 primeiros filmes mais bem avaliados no site no [IMDB](https://www.imdb.com/chart/top/). Imprima o resultado."
      ],
      "metadata": {
        "id": "xXtIyJ1EhLjq"
      }
    },
    {
      "cell_type": "code",
      "source": [
        "lista = ['Um sonho de Liberdade','O Poderoso Chefão','Batman: O Cavaleiro das Trevas',\n",
        "         'O Poderoso Chefão II','12 Homens e uma Sentença','A Lista de Schindler',\n",
        "         'O Senhor dos Anéis: O Retorno do Rei','Pulp Fiction: Tempo de Violência','O Senhor dos Anéis: A Sociedade do Anel',\n",
        "         'Três Homens em Conflito']\n",
        "print(lista)"
      ],
      "metadata": {
        "id": "VSyHayy1hhbx"
      },
      "execution_count": null,
      "outputs": []
    },
    {
      "cell_type": "markdown",
      "source": [
        "Simule a movimentação do *ranking*. Utilize os métodos `insert` e `pop` para trocar a posição do primeiro e do segundo filme da lista. Imprima o resultado.\n"
      ],
      "metadata": {
        "id": "25mQg-5oi8Hu"
      }
    },
    {
      "cell_type": "code",
      "source": [
        "\"\"\"\n",
        "Acabei modificando mais vezes do que pede o enunciado, espero que não tenha problemas.\n",
        "\"\"\"\n",
        "\n",
        "#Mudando a posição do primeiro e do segundo filme\n",
        "lista = ['Um sonho de Liberdade','O Poderoso Chefão','Batman: O Cavaleiro das Trevas',\n",
        "         'O Poderoso Chefão II','12 Homens e uma Sentença','A Lista de Schindler',\n",
        "         'O Senhor dos Anéis: O Retorno do Rei','Pulp Fiction: Tempo de Violência','O Senhor dos Anéis: A Sociedade do Anel',\n",
        "         'Três Homens em Conflito']\n",
        "\n",
        "#Adicionando o filme interestelar na segunda colocação usando insert\n",
        "lista.insert(1,'Interestelar')\n",
        "#removendo o primeiro filme da lista\n",
        "lista.pop(0)\n",
        "#trocando filme de lugar\n",
        "lista[1] = lista[5]\n",
        "#excluindo o lista[5]\n",
        "lista.pop(5)\n",
        "#exibindo\n",
        "print(lista)"
      ],
      "metadata": {
        "id": "VDRmb4e-jdi0"
      },
      "execution_count": null,
      "outputs": []
    },
    {
      "cell_type": "markdown",
      "source": [
        "## 2\\. Conjuntos\n",
        "  Aconteceu um erro no seu *ranking*. Simule a duplicação dos três    últimos filmes da lista. Imprima o resultado."
      ],
      "metadata": {
        "id": "Q4E7k0i4lnhA"
      }
    },
    {
      "cell_type": "code",
      "source": [
        "#ranking sem erro.\n",
        "lista = ['Um sonho de Liberdade','O Poderoso Chefão','Batman: O Cavaleiro das Trevas',\n",
        "         'O Poderoso Chefão II','12 Homens e uma Sentença','A Lista de Schindler',\n",
        "         'O Senhor dos Anéis: O Retorno do Rei','Pulp Fiction: Tempo de Violência','O Senhor dos Anéis: A Sociedade do Anel',\n",
        "         'Três Homens em Conflito']\n",
        "#erro.\n",
        "lista = ['Um sonho de Liberdade','O Poderoso Chefão','Batman: O Cavaleiro das Trevas',\n",
        "         'O Poderoso Chefão II','12 Homens e uma Sentença','A Lista de Schindler',\n",
        "         'O Senhor dos Anéis: O Retorno do Rei','Pulp Fiction: Tempo de Violência','Pulp Fiction: Tempo de Violência',\n",
        "         'Pulp Fiction: Tempo de Violência','Pulp Fiction: Tempo de Violência','O Senhor dos Anéis: A Sociedade do Anel',\n",
        "         'O Senhor dos Anéis: A Sociedade do Anel','O Senhor dos Anéis: A Sociedade do Anel','Três Homens em Conflito',\n",
        "         'Três Homens em Conflito','Três Homens em Conflito']\n",
        "print('Houve um erro no seu ranking')\n",
        "print(lista)"
      ],
      "metadata": {
        "id": "SbT2oY52lq5v"
      },
      "execution_count": null,
      "outputs": []
    },
    {
      "cell_type": "markdown",
      "source": [
        "Utiliza a conversão `set` e `list` para remover os valores duplicados. Imprima o resultado. "
      ],
      "metadata": {
        "id": "0W2-KHy8nTE0"
      }
    },
    {
      "cell_type": "code",
      "source": [
        "#lista com erro\n",
        "lista = ['Um sonho de Liberdade','O Poderoso Chefão','Batman: O Cavaleiro das Trevas',\n",
        "         'O Poderoso Chefão II','12 Homens e uma Sentença','A Lista de Schindler',\n",
        "         'O Senhor dos Anéis: O Retorno do Rei','Pulp Fiction: Tempo de Violência','Pulp Fiction: Tempo de Violência',\n",
        "         'Pulp Fiction: Tempo de Violência','Pulp Fiction: Tempo de Violência','O Senhor dos Anéis: A Sociedade do Anel',\n",
        "         'O Senhor dos Anéis: A Sociedade do Anel','O Senhor dos Anéis: A Sociedade do Anel','Três Homens em Conflito',\n",
        "         'Três Homens em Conflito','Três Homens em Conflito']\n",
        "\n",
        "#removendo valores duplicados usando set\n",
        "nova_lista = set(lista)\n",
        "lista = list(nova_lista)\n",
        "#perceba que houve mudanças nas posições\n",
        "print(lista)"
      ],
      "metadata": {
        "id": "OgCbUvKlnUMT"
      },
      "execution_count": null,
      "outputs": []
    },
    {
      "cell_type": "markdown",
      "source": [
        "## 3\\. Dicionários\n"
      ],
      "metadata": {
        "id": "KNkVQuKwov6h"
      }
    },
    {
      "cell_type": "markdown",
      "source": [
        "Repita os exercícios da parte 1 (listas). Os elementos da lista `filmes` devem ser dicionários no seguinte formato: `{'nome': <nome-do-filme>, 'ano': <ano do filme>}, 'sinopse': <sinopse do filme>}`. "
      ],
      "metadata": {
        "id": "h3EVpcGuo2bw"
      }
    },
    {
      "cell_type": "code",
      "source": [
        "#lista do exercicio 1 de listas\n",
        "lista_nome = ['Um sonho de Liberdade','O Poderoso Chefão','Batman: O Cavaleiro das Trevas',\n",
        "         'O Poderoso Chefão II','12 Homens e uma Sentença','A Lista de Schindler',\n",
        "         'O Senhor dos Anéis: O Retorno do Rei','Pulp Fiction: Tempo de Violência','O Senhor dos Anéis: A Sociedade do Anel',\n",
        "         'Três Homens em Conflito']\n",
        "\n",
        "#lista com os anos ja em ordem\n",
        "lista_ano = [1994,1972,2008,1974,1957,1993,2003,1994,2001,1966]\n",
        "\n",
        "#lista com as sinopses\n",
        "lista_sinopse = ['Dois homens presos se reúnem ao longo de vários anos, encontrando consolo e eventual redenção através de atos de decência comum.',\n",
        "                 'O patriarca idoso de uma dinastia do crime organizado transfere o controle de seu império clandestino para seu filho relutante.',\n",
        "                 'Quando a ameaça conhecida como O Coringa surge de seu passado, causa estragos e caos nas pessoas de Gotham. O Cavaleiro das Trevas deve aceitar um dos maiores testes para combater a injustiça.',\n",
        "                 'Em 1950, Michael Corleone, agora à frente da família, tenta expandir o negócio do crime a Las Vegas, Los Angeles e Cuba. Paralelamente, é revelada a história de Vito Corleone, e de como saiu da Sicília e chegou a Nova Iorque.',\n",
        "                 'Um jurado que se aposenta tenta evitar um erro judicial forçando seus colegas a reconsiderarem as evidências',\n",
        "                 'Depois de testemunhar a perseguição dos judaicos na Polônia ocupada pelos alemães durante a Segunda Guerra Mundial, o industrial Oskar Schindler se começa a preocupar com sua força de trabalho judaica',\n",
        "                 'Gandalf e Aragorn lideram o Mundo dos Homens contra o exército de Sauron para desviar o olhar de Frodo e Sam quando eles se aproximam á Montanha da Perdição com o Um Anel',\n",
        "                 'As vidas de dois assassinos da máfia, um boxeador, um gângster e sua esposa, e um par de bandidos se entrelaçam em quatro histórias de violência e redenção',\n",
        "                 'Um manso hobbit do Condado e oito companheiros partem em uma jornada para destruir o poderoso Um Anel e salvar a Terra-média das Trevas.',\n",
        "                 'Um impostor se junta com dois homens para encontrar fortuna num remoto cemitério.']\n",
        "#objetivo -> {'nome': <nome-do-filme>, 'ano': <ano do filme>}, 'sinopse': <sinopse do filme>}.\n",
        "\n",
        "#Refiz esse exercício 3, porém, ainda não ficou claro para mim a maneira de fazer, porque sempre que tentava deixar como especificado no enunciado dava erro de sintaxe.\n",
        "#Então, fazer dessa maneira \"lista = [ {dict1} , {dict2} ]\" com dict1 contendo {'nome': <nome-do-filme>, 'ano': <ano do filme>} e dict2 {'sinopse': <sinopse do filme>},\n",
        "#foi a maneira mais próxima de chegar ao dito no enunciado. Obrigado\n",
        "\n",
        "lista_filmes = list() \n",
        "for i in range(len(lista_nome)):\n",
        "  dicionario_nome_ano = {}\n",
        "  dicionario_sinopse = {}\n",
        "  dicionario_nome_ano[f'{i+1}º Nome '] = lista_nome[i]\n",
        "  dicionario_nome_ano[f'{i+1}º Ano'] = lista_ano[i]\n",
        "  dicionario_sinopse[f'{i+1}º Sinopse'] = lista_sinopse[i]\n",
        "  lista_filmes.append(dicionario_nome_ano)\n",
        "  lista_filmes.append(dicionario_sinopse)\n",
        "\n",
        "print(lista_filmes)"
      ],
      "metadata": {
        "id": "2twoDjs4o4X6"
      },
      "execution_count": null,
      "outputs": []
    }
  ]
}