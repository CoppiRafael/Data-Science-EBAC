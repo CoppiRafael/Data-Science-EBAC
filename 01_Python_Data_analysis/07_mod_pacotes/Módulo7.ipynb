{
  "nbformat": 4,
  "nbformat_minor": 0,
  "metadata": {
    "colab": {
      "provenance": []
    },
    "kernelspec": {
      "name": "python3",
      "display_name": "Python 3"
    },
    "language_info": {
      "name": "python"
    }
  },
  "cells": [
    {
      "cell_type": "markdown",
      "source": [
        "# **Exercícios**"
      ],
      "metadata": {
        "id": "c8G2KFtqbJD8"
      }
    },
    {
      "cell_type": "markdown",
      "source": [
        "## 0\\. Preparação do ambiente"
      ],
      "metadata": {
        "id": "_Z4lWh3TbLIq"
      }
    },
    {
      "cell_type": "markdown",
      "source": [
        "Neste exercício vamos utilizar a base de dados de ações da bolsa de valores dos EUA, a Dow Jones. Os dados estão disponíveis para *download* neste [link](https://archive.ics.uci.edu/ml/datasets/Dow+Jones+Index). Vamos utilizar o pacote `wget` para fazer o *download* dos dados."
      ],
      "metadata": {
        "id": "v4KNbKnrbPQK"
      }
    },
    {
      "cell_type": "markdown",
      "source": [
        " - Instalando o pacote `wget` na versão 3.2."
      ],
      "metadata": {
        "id": "iF4UsQl8bP0h"
      }
    },
    {
      "cell_type": "code",
      "source": [
        "!pip install wget==3.2"
      ],
      "metadata": {
        "id": "xLUuTX75bTDp"
      },
      "execution_count": null,
      "outputs": []
    },
    {
      "cell_type": "code",
      "source": [
        "from google.colab import drive\n",
        "drive.mount('/content/drive')"
      ],
      "metadata": {
        "id": "7ZpFE7hkQ-tg"
      },
      "execution_count": null,
      "outputs": []
    },
    {
      "cell_type": "markdown",
      "source": [
        " - Fazendo o download dos dados no arquivo compactado `dados.zip`."
      ],
      "metadata": {
        "id": "p9SpiaPYbVl5"
      }
    },
    {
      "cell_type": "code",
      "source": [
        "import wget\n",
        "\n",
        "wget.download(url='https://archive.ics.uci.edu/ml/machine-learning-databases/00312/dow_jones_index.zip', out='./dados.zip')"
      ],
      "metadata": {
        "id": "-N3ozgQ4baLR"
      },
      "execution_count": null,
      "outputs": []
    },
    {
      "cell_type": "markdown",
      "source": [],
      "metadata": {
        "id": "XiCThvO6RjCF"
      }
    },
    {
      "cell_type": "markdown",
      "source": [
        " - Descompactando os `dados` na pasta dados com o pacote nativo `zipfile`.\n"
      ],
      "metadata": {
        "id": "SGaUJUn_bcDZ"
      }
    },
    {
      "cell_type": "code",
      "source": [
        "import zipfile\n",
        "\n",
        "with zipfile.ZipFile('./dados.zip', 'r') as fp:\n",
        "  fp.extractall('./dados')\n",
        "#extraindo os dados do arquivo 'dados.zip' que esta compactado\n"
      ],
      "metadata": {
        "id": "qUPHLiUxbnGp"
      },
      "execution_count": null,
      "outputs": []
    },
    {
      "cell_type": "markdown",
      "source": [
        "Verifique a pasta dados criada, ela deve conter dois arquivos:\n",
        "\n",
        " - **dow_jones_index.data**: um arquivo com os dados;\n",
        " - **dow_jones_index.names**: um arquivo com a descrição completa dos dados.\n",
        "\n",
        "É possível observar que o arquivo de dados é um arquivo separado por virgulas, o famoso `csv`. Vamos renomear o arquivo de dados para que ele tenha a extensão `csv` com o pacote nativo `os`."
      ],
      "metadata": {
        "id": "6m390CdpbpBB"
      }
    },
    {
      "cell_type": "markdown",
      "source": [
        "- Renomeando o arquivo com o pacote nativo `os`."
      ],
      "metadata": {
        "id": "ez6-Yf6Abt04"
      }
    },
    {
      "cell_type": "code",
      "source": [
        "import os\n",
        "\n",
        "os.rename('./dados/dow_jones_index.data', './dados/dow_jones_index.csv')"
      ],
      "metadata": {
        "id": "pfx74v1Bby_w"
      },
      "execution_count": null,
      "outputs": []
    },
    {
      "cell_type": "markdown",
      "source": [
        "## 1\\. Pandas"
      ],
      "metadata": {
        "id": "3GqCTp8Fb0Yo"
      }
    },
    {
      "cell_type": "markdown",
      "source": [
        "Para processar os dados, vamos utilizar o pacote `pandas` na versão `1.1.5`. A documentação completa por ser encontrada neste [link](https://pandas.pydata.org/docs/)"
      ],
      "metadata": {
        "id": "MKfIi0pKb3uI"
      }
    },
    {
      "cell_type": "code",
      "source": [
        "!pip install pandas==1.1.5\n"
      ],
      "metadata": {
        "id": "pnXnvgjVb6Hw"
      },
      "execution_count": null,
      "outputs": []
    },
    {
      "cell_type": "markdown",
      "source": [
        "Vamos importar o pacote com o apelido (alias) `pd`.\n"
      ],
      "metadata": {
        "id": "BIv0sGnNb9qQ"
      }
    },
    {
      "cell_type": "code",
      "source": [
        "import pandas as pd"
      ],
      "metadata": {
        "id": "GtQzHA6ocATY"
      },
      "execution_count": null,
      "outputs": []
    },
    {
      "cell_type": "markdown",
      "source": [
        "Estamos prontos para ler o arquivo.\n"
      ],
      "metadata": {
        "id": "7IEeefOFcD9Q"
      }
    },
    {
      "cell_type": "code",
      "source": [
        "df = pd.read_csv('./dados/dow_jones_index.csv')\n",
        "#pd.read_csv para ler o arquivo"
      ],
      "metadata": {
        "id": "eq2HksO-cIdI"
      },
      "execution_count": null,
      "outputs": []
    },
    {
      "cell_type": "markdown",
      "source": [
        "O pandas trabalha com o conceito de dataframe, uma estrutura de dados com muitos métodos e atributos que aceleram o processamento de dados. Alguns exemplos:"
      ],
      "metadata": {
        "id": "tIzfYUS-cKy3"
      }
    },
    {
      "cell_type": "markdown",
      "source": [
        " - Visualizando as `n` primeiras linhas:\n"
      ],
      "metadata": {
        "id": "xPDwQzuJcLUg"
      }
    },
    {
      "cell_type": "code",
      "source": [
        "df.head(n=11)\n",
        "# .head serve para visualizar as n primeiras linhas"
      ],
      "metadata": {
        "id": "3tSAjIRNcPBn"
      },
      "execution_count": null,
      "outputs": []
    },
    {
      "cell_type": "markdown",
      "source": [
        " - Visualizando o nome das colunas:\n"
      ],
      "metadata": {
        "id": "a6ZqZAOIcT_Q"
      }
    },
    {
      "cell_type": "code",
      "source": [
        "df.columns.to_list()\n",
        "# name.columns.to_list() transforma o nome das colunas em uma lista.\n",
        "#sendo cada titulo/nome da coluna um elemento da lista.\n"
      ],
      "metadata": {
        "id": "7y-tjTTbcbR3"
      },
      "execution_count": null,
      "outputs": []
    },
    {
      "cell_type": "markdown",
      "source": [
        " - Verificando o número de linhas e colunas.\n"
      ],
      "metadata": {
        "id": "9OwZq8XlcdyH"
      }
    },
    {
      "cell_type": "code",
      "source": [
        "linhas, colunas = df.shape\n",
        "# linhas, colunas = name.shape pega a quantidade de linhas e colunas e armazena respectivamnte nas variaveis\n",
        "#chamadas \"linhas\" e \"colunas\". sempre a 1 variavel será linha.\n",
        "print(f'Número de linhas: {linhas}')\n",
        "print(f'Número de colunas: {colunas}')"
      ],
      "metadata": {
        "id": "0vyChpx_ced_"
      },
      "execution_count": null,
      "outputs": []
    },
    {
      "cell_type": "markdown",
      "source": [
        "Vamos selecionar os valores de abertura, fechamento, máximo e mínimo das ações do McDonalds, listado na Dow Jones como MCD:\n"
      ],
      "metadata": {
        "id": "0vh9jCTXcheP"
      }
    },
    {
      "cell_type": "markdown",
      "source": [
        " - Selecionando as linha do dataframe original `df` em que a coluna `stock` é igual a `MCD`."
      ],
      "metadata": {
        "id": "3UelM0OpclFw"
      }
    },
    {
      "cell_type": "code",
      "source": [
        "df_mcd = df[df['stock'] == 'MCD']\n",
        "        #no dataframe eu quero o df['stock'] --> (na coluna 'stock')\n",
        "        #pegar a ação 'MCD'\n",
        "        "
      ],
      "metadata": {
        "id": "9Or2vIJjciVn"
      },
      "execution_count": null,
      "outputs": []
    },
    {
      "cell_type": "markdown",
      "source": [
        " - Selecionando apenas as colunas de data e valores de ações.\n"
      ],
      "metadata": {
        "id": "2RE4oLufcn3f"
      }
    },
    {
      "cell_type": "code",
      "source": [
        "df_mcd = df_mcd[['date', 'open', 'high', 'low', 'close']]\n",
        "#esse metodo me permite pegar do meu data frame apenas as colunas que eu quero."
      ],
      "metadata": {
        "id": "Zh1Ua72-cq9g"
      },
      "execution_count": null,
      "outputs": []
    },
    {
      "cell_type": "markdown",
      "source": [
        "Excelente, o problema é que as colunas com os valores possuem o carater `$` e são do tipo texto (`object` no `pandas`).\n"
      ],
      "metadata": {
        "id": "OIDo45kLctHH"
      }
    },
    {
      "cell_type": "code",
      "source": [
        "df_mcd.head(10)"
      ],
      "metadata": {
        "id": "K7LRpwL4cvLn"
      },
      "execution_count": null,
      "outputs": []
    },
    {
      "cell_type": "code",
      "source": [
        "df_mcd.dtypes\n"
      ],
      "metadata": {
        "id": "S3n4Z9k0cyWP"
      },
      "execution_count": null,
      "outputs": []
    },
    {
      "cell_type": "markdown",
      "source": [
        "Vamos limpar as colunas com o método `apply`, que permite a aplicação de uma função anônima (`lambda`) qualquer. A função `lambda` remove o caracter **$** e faz a conversão do tipo de `str` para `float`."
      ],
      "metadata": {
        "id": "4k7yN1wXc5sP"
      }
    },
    {
      "cell_type": "code",
      "source": [
        "for elemento in ['open', 'high', 'low', 'close']:\n",
        "  df_mcd[elemento] = df_mcd[elemento].apply(lambda value: float(value.split(sep='$')[-1]))\n",
        "#método apply, que permite a aplicação de uma função anônima (lambda) qualquer. \n",
        "#A função lambda remove o caracter $ e faz a conversão do tipo de str para float."
      ],
      "metadata": {
        "id": "o0F9KGfpc8Pv"
      },
      "execution_count": null,
      "outputs": []
    },
    {
      "cell_type": "markdown",
      "source": [
        "Verifique novamente os dados e seus tipos.\n"
      ],
      "metadata": {
        "id": "loqYZTaCdFK_"
      }
    },
    {
      "cell_type": "code",
      "source": [
        "df_mcd.head(n=10)\n"
      ],
      "metadata": {
        "id": "wNveWCRWdHOW",
        "colab": {
          "base_uri": "https://localhost:8080/",
          "height": 363
        },
        "outputId": "574c165b-a41a-4b5b-a624-f5cadae10968"
      },
      "execution_count": null,
      "outputs": [
        {
          "output_type": "execute_result",
          "data": {
            "text/plain": [
              "          date   open   high    low  close\n",
              "216   1/7/2011  77.10  77.59  73.59  74.37\n",
              "217  1/14/2011  74.25  74.49  72.46  74.06\n",
              "218  1/21/2011  74.65  75.75  74.31  75.01\n",
              "219  1/28/2011  74.25  75.85  73.05  73.28\n",
              "220   2/4/2011  73.80  74.50  73.08  74.05\n",
              "221  2/11/2011  74.13  76.32  73.30  76.14\n",
              "222  2/18/2011  76.07  76.45  75.70  76.13\n",
              "223  2/25/2011  75.95  76.45  74.42  74.44\n",
              "224   3/4/2011  74.51  76.63  73.64  76.03\n",
              "225  3/11/2011  76.38  77.25  74.97  76.73"
            ],
            "text/html": [
              "\n",
              "  <div id=\"df-ce5866d1-1582-4ee5-a994-cf70e65a2846\">\n",
              "    <div class=\"colab-df-container\">\n",
              "      <div>\n",
              "<style scoped>\n",
              "    .dataframe tbody tr th:only-of-type {\n",
              "        vertical-align: middle;\n",
              "    }\n",
              "\n",
              "    .dataframe tbody tr th {\n",
              "        vertical-align: top;\n",
              "    }\n",
              "\n",
              "    .dataframe thead th {\n",
              "        text-align: right;\n",
              "    }\n",
              "</style>\n",
              "<table border=\"1\" class=\"dataframe\">\n",
              "  <thead>\n",
              "    <tr style=\"text-align: right;\">\n",
              "      <th></th>\n",
              "      <th>date</th>\n",
              "      <th>open</th>\n",
              "      <th>high</th>\n",
              "      <th>low</th>\n",
              "      <th>close</th>\n",
              "    </tr>\n",
              "  </thead>\n",
              "  <tbody>\n",
              "    <tr>\n",
              "      <th>216</th>\n",
              "      <td>1/7/2011</td>\n",
              "      <td>77.10</td>\n",
              "      <td>77.59</td>\n",
              "      <td>73.59</td>\n",
              "      <td>74.37</td>\n",
              "    </tr>\n",
              "    <tr>\n",
              "      <th>217</th>\n",
              "      <td>1/14/2011</td>\n",
              "      <td>74.25</td>\n",
              "      <td>74.49</td>\n",
              "      <td>72.46</td>\n",
              "      <td>74.06</td>\n",
              "    </tr>\n",
              "    <tr>\n",
              "      <th>218</th>\n",
              "      <td>1/21/2011</td>\n",
              "      <td>74.65</td>\n",
              "      <td>75.75</td>\n",
              "      <td>74.31</td>\n",
              "      <td>75.01</td>\n",
              "    </tr>\n",
              "    <tr>\n",
              "      <th>219</th>\n",
              "      <td>1/28/2011</td>\n",
              "      <td>74.25</td>\n",
              "      <td>75.85</td>\n",
              "      <td>73.05</td>\n",
              "      <td>73.28</td>\n",
              "    </tr>\n",
              "    <tr>\n",
              "      <th>220</th>\n",
              "      <td>2/4/2011</td>\n",
              "      <td>73.80</td>\n",
              "      <td>74.50</td>\n",
              "      <td>73.08</td>\n",
              "      <td>74.05</td>\n",
              "    </tr>\n",
              "    <tr>\n",
              "      <th>221</th>\n",
              "      <td>2/11/2011</td>\n",
              "      <td>74.13</td>\n",
              "      <td>76.32</td>\n",
              "      <td>73.30</td>\n",
              "      <td>76.14</td>\n",
              "    </tr>\n",
              "    <tr>\n",
              "      <th>222</th>\n",
              "      <td>2/18/2011</td>\n",
              "      <td>76.07</td>\n",
              "      <td>76.45</td>\n",
              "      <td>75.70</td>\n",
              "      <td>76.13</td>\n",
              "    </tr>\n",
              "    <tr>\n",
              "      <th>223</th>\n",
              "      <td>2/25/2011</td>\n",
              "      <td>75.95</td>\n",
              "      <td>76.45</td>\n",
              "      <td>74.42</td>\n",
              "      <td>74.44</td>\n",
              "    </tr>\n",
              "    <tr>\n",
              "      <th>224</th>\n",
              "      <td>3/4/2011</td>\n",
              "      <td>74.51</td>\n",
              "      <td>76.63</td>\n",
              "      <td>73.64</td>\n",
              "      <td>76.03</td>\n",
              "    </tr>\n",
              "    <tr>\n",
              "      <th>225</th>\n",
              "      <td>3/11/2011</td>\n",
              "      <td>76.38</td>\n",
              "      <td>77.25</td>\n",
              "      <td>74.97</td>\n",
              "      <td>76.73</td>\n",
              "    </tr>\n",
              "  </tbody>\n",
              "</table>\n",
              "</div>\n",
              "      <button class=\"colab-df-convert\" onclick=\"convertToInteractive('df-ce5866d1-1582-4ee5-a994-cf70e65a2846')\"\n",
              "              title=\"Convert this dataframe to an interactive table.\"\n",
              "              style=\"display:none;\">\n",
              "        \n",
              "  <svg xmlns=\"http://www.w3.org/2000/svg\" height=\"24px\"viewBox=\"0 0 24 24\"\n",
              "       width=\"24px\">\n",
              "    <path d=\"M0 0h24v24H0V0z\" fill=\"none\"/>\n",
              "    <path d=\"M18.56 5.44l.94 2.06.94-2.06 2.06-.94-2.06-.94-.94-2.06-.94 2.06-2.06.94zm-11 1L8.5 8.5l.94-2.06 2.06-.94-2.06-.94L8.5 2.5l-.94 2.06-2.06.94zm10 10l.94 2.06.94-2.06 2.06-.94-2.06-.94-.94-2.06-.94 2.06-2.06.94z\"/><path d=\"M17.41 7.96l-1.37-1.37c-.4-.4-.92-.59-1.43-.59-.52 0-1.04.2-1.43.59L10.3 9.45l-7.72 7.72c-.78.78-.78 2.05 0 2.83L4 21.41c.39.39.9.59 1.41.59.51 0 1.02-.2 1.41-.59l7.78-7.78 2.81-2.81c.8-.78.8-2.07 0-2.86zM5.41 20L4 18.59l7.72-7.72 1.47 1.35L5.41 20z\"/>\n",
              "  </svg>\n",
              "      </button>\n",
              "      \n",
              "  <style>\n",
              "    .colab-df-container {\n",
              "      display:flex;\n",
              "      flex-wrap:wrap;\n",
              "      gap: 12px;\n",
              "    }\n",
              "\n",
              "    .colab-df-convert {\n",
              "      background-color: #E8F0FE;\n",
              "      border: none;\n",
              "      border-radius: 50%;\n",
              "      cursor: pointer;\n",
              "      display: none;\n",
              "      fill: #1967D2;\n",
              "      height: 32px;\n",
              "      padding: 0 0 0 0;\n",
              "      width: 32px;\n",
              "    }\n",
              "\n",
              "    .colab-df-convert:hover {\n",
              "      background-color: #E2EBFA;\n",
              "      box-shadow: 0px 1px 2px rgba(60, 64, 67, 0.3), 0px 1px 3px 1px rgba(60, 64, 67, 0.15);\n",
              "      fill: #174EA6;\n",
              "    }\n",
              "\n",
              "    [theme=dark] .colab-df-convert {\n",
              "      background-color: #3B4455;\n",
              "      fill: #D2E3FC;\n",
              "    }\n",
              "\n",
              "    [theme=dark] .colab-df-convert:hover {\n",
              "      background-color: #434B5C;\n",
              "      box-shadow: 0px 1px 3px 1px rgba(0, 0, 0, 0.15);\n",
              "      filter: drop-shadow(0px 1px 2px rgba(0, 0, 0, 0.3));\n",
              "      fill: #FFFFFF;\n",
              "    }\n",
              "  </style>\n",
              "\n",
              "      <script>\n",
              "        const buttonEl =\n",
              "          document.querySelector('#df-ce5866d1-1582-4ee5-a994-cf70e65a2846 button.colab-df-convert');\n",
              "        buttonEl.style.display =\n",
              "          google.colab.kernel.accessAllowed ? 'block' : 'none';\n",
              "\n",
              "        async function convertToInteractive(key) {\n",
              "          const element = document.querySelector('#df-ce5866d1-1582-4ee5-a994-cf70e65a2846');\n",
              "          const dataTable =\n",
              "            await google.colab.kernel.invokeFunction('convertToInteractive',\n",
              "                                                     [key], {});\n",
              "          if (!dataTable) return;\n",
              "\n",
              "          const docLinkHtml = 'Like what you see? Visit the ' +\n",
              "            '<a target=\"_blank\" href=https://colab.research.google.com/notebooks/data_table.ipynb>data table notebook</a>'\n",
              "            + ' to learn more about interactive tables.';\n",
              "          element.innerHTML = '';\n",
              "          dataTable['output_type'] = 'display_data';\n",
              "          await google.colab.output.renderOutput(dataTable, element);\n",
              "          const docLink = document.createElement('div');\n",
              "          docLink.innerHTML = docLinkHtml;\n",
              "          element.appendChild(docLink);\n",
              "        }\n",
              "      </script>\n",
              "    </div>\n",
              "  </div>\n",
              "  "
            ]
          },
          "metadata": {},
          "execution_count": 45
        }
      ]
    },
    {
      "cell_type": "code",
      "source": [
        "df_mcd.dtypes\n",
        "#tipo de dados das colunas"
      ],
      "metadata": {
        "id": "sAvNAPXPdJ2e",
        "colab": {
          "base_uri": "https://localhost:8080/"
        },
        "outputId": "9b07d6d8-6ad9-4a99-daf0-a00c1ba57989"
      },
      "execution_count": null,
      "outputs": [
        {
          "output_type": "execute_result",
          "data": {
            "text/plain": [
              "date      object\n",
              "open     float64\n",
              "high     float64\n",
              "low      float64\n",
              "close    float64\n",
              "dtype: object"
            ]
          },
          "metadata": {},
          "execution_count": 46
        }
      ]
    },
    {
      "cell_type": "markdown",
      "source": [
        "Excelente, agora podemos explorar os dados visualmente.\n"
      ],
      "metadata": {
        "id": "pvYCzSk7dOT-"
      }
    },
    {
      "cell_type": "markdown",
      "source": [
        "**Agora é a sua vez!** Conduza o mesmo processo para extrair e tratar os dados da empresa Coca-Cola (`stock` column igual a `KO`).\n"
      ],
      "metadata": {
        "id": "kA1lAaVfdUn4"
      }
    },
    {
      "cell_type": "markdown",
      "source": [
        " - Selecionando as linha do dataframe original `df` em que a coluna `stock` é igual a `KO`.\n"
      ],
      "metadata": {
        "id": "BSGiQUnbdVCW"
      }
    },
    {
      "cell_type": "code",
      "source": [
        "# extração e tratamento dos dados da empresa Coca-Cola. (KO)\n",
        "df_ko = df[df['stock'] == 'KO']\n",
        "\n"
      ],
      "metadata": {
        "id": "GX1FEoaldgf3"
      },
      "execution_count": null,
      "outputs": []
    },
    {
      "cell_type": "markdown",
      "source": [
        "Vamos selecionar os valores de abertura, fechamento, máximo e mínimo das ações da empresa Coca-Cola, listado na Dow Jones como KO:\n"
      ],
      "metadata": {
        "id": "SWEWCGIFdmTN"
      }
    },
    {
      "cell_type": "markdown",
      "source": [
        " - Selecionando apenas as colunas de data e valores de ações."
      ],
      "metadata": {
        "id": "nVKhwe5SdpA9"
      }
    },
    {
      "cell_type": "code",
      "source": [
        "#data,open,high,low,close,volume\n",
        "df_ko = df_ko[['date', 'open', 'high', 'low', 'close']]\n",
        "#esse metodo me permite pegar do meu dataframe apenas as colunas que eu quero."
      ],
      "metadata": {
        "id": "DPg50kD6dslF"
      },
      "execution_count": null,
      "outputs": []
    },
    {
      "cell_type": "markdown",
      "source": [
        "Excelente, o problema é que as colunas com os valores possuem o carater `$` e são do tipo texto (`object` no `pandas`).\n"
      ],
      "metadata": {
        "id": "ompzS8Lsdsst"
      }
    },
    {
      "cell_type": "code",
      "source": [
        "# Visualize os dados do dataframe\n",
        "df_ko.head(n=100)\n"
      ],
      "metadata": {
        "id": "qHWPXGvgdvC2",
        "colab": {
          "base_uri": "https://localhost:8080/",
          "height": 833
        },
        "outputId": "312af519-b6ae-47fa-95fa-ae9619b71348"
      },
      "execution_count": null,
      "outputs": [
        {
          "output_type": "execute_result",
          "data": {
            "text/plain": [
              "          date    open    high     low   close\n",
              "204   1/7/2011  $65.88  $65.88  $62.56  $62.92\n",
              "205  1/14/2011  $62.70  $63.86  $62.56  $63.13\n",
              "206  1/21/2011  $63.21  $63.92  $62.72  $62.77\n",
              "207  1/28/2011  $62.87  $63.31  $62.14  $62.21\n",
              "208   2/4/2011  $62.32  $63.48  $61.89  $62.56\n",
              "209  2/11/2011  $62.67  $64.75  $62.32  $63.57\n",
              "210  2/18/2011  $63.67  $64.72  $62.55  $64.55\n",
              "211  2/25/2011  $63.36  $64.40  $63.33  $64.31\n",
              "212   3/4/2011  $64.17  $65.87  $63.86  $65.21\n",
              "213  3/11/2011  $65.32  $65.84  $64.47  $64.81\n",
              "214  3/18/2011  $64.34  $64.61  $61.29  $62.70\n",
              "215  3/25/2011  $63.13  $65.39  $63.05  $65.22\n",
              "581   4/1/2011  $65.20  $67.48  $65.03  $67.22\n",
              "582   4/8/2011  $67.22  $67.82  $66.86  $67.27\n",
              "583  4/15/2011  $67.25  $68.47  $66.41  $68.01\n",
              "584  4/21/2011  $67.57  $68.05  $66.64  $67.88\n",
              "585  4/29/2011  $67.95  $67.98  $65.81  $67.46\n",
              "586   5/6/2011  $67.76  $67.93  $66.40  $66.90\n",
              "587  5/13/2011  $66.86  $68.77  $66.83  $68.18\n",
              "588  5/20/2011  $68.10  $68.70  $67.50  $68.30\n",
              "589  5/27/2011  $67.59  $67.90  $66.30  $66.51\n",
              "590   6/3/2011  $66.94  $67.24  $65.21  $65.53\n",
              "591  6/10/2011  $65.51  $68.05  $65.07  $65.39\n",
              "592  6/17/2011  $65.10  $66.23  $64.64  $65.62\n",
              "593  6/24/2011  $65.37  $66.82  $64.43  $64.93"
            ],
            "text/html": [
              "\n",
              "  <div id=\"df-02f03976-0799-4319-a1dc-a0d7632c11ec\">\n",
              "    <div class=\"colab-df-container\">\n",
              "      <div>\n",
              "<style scoped>\n",
              "    .dataframe tbody tr th:only-of-type {\n",
              "        vertical-align: middle;\n",
              "    }\n",
              "\n",
              "    .dataframe tbody tr th {\n",
              "        vertical-align: top;\n",
              "    }\n",
              "\n",
              "    .dataframe thead th {\n",
              "        text-align: right;\n",
              "    }\n",
              "</style>\n",
              "<table border=\"1\" class=\"dataframe\">\n",
              "  <thead>\n",
              "    <tr style=\"text-align: right;\">\n",
              "      <th></th>\n",
              "      <th>date</th>\n",
              "      <th>open</th>\n",
              "      <th>high</th>\n",
              "      <th>low</th>\n",
              "      <th>close</th>\n",
              "    </tr>\n",
              "  </thead>\n",
              "  <tbody>\n",
              "    <tr>\n",
              "      <th>204</th>\n",
              "      <td>1/7/2011</td>\n",
              "      <td>$65.88</td>\n",
              "      <td>$65.88</td>\n",
              "      <td>$62.56</td>\n",
              "      <td>$62.92</td>\n",
              "    </tr>\n",
              "    <tr>\n",
              "      <th>205</th>\n",
              "      <td>1/14/2011</td>\n",
              "      <td>$62.70</td>\n",
              "      <td>$63.86</td>\n",
              "      <td>$62.56</td>\n",
              "      <td>$63.13</td>\n",
              "    </tr>\n",
              "    <tr>\n",
              "      <th>206</th>\n",
              "      <td>1/21/2011</td>\n",
              "      <td>$63.21</td>\n",
              "      <td>$63.92</td>\n",
              "      <td>$62.72</td>\n",
              "      <td>$62.77</td>\n",
              "    </tr>\n",
              "    <tr>\n",
              "      <th>207</th>\n",
              "      <td>1/28/2011</td>\n",
              "      <td>$62.87</td>\n",
              "      <td>$63.31</td>\n",
              "      <td>$62.14</td>\n",
              "      <td>$62.21</td>\n",
              "    </tr>\n",
              "    <tr>\n",
              "      <th>208</th>\n",
              "      <td>2/4/2011</td>\n",
              "      <td>$62.32</td>\n",
              "      <td>$63.48</td>\n",
              "      <td>$61.89</td>\n",
              "      <td>$62.56</td>\n",
              "    </tr>\n",
              "    <tr>\n",
              "      <th>209</th>\n",
              "      <td>2/11/2011</td>\n",
              "      <td>$62.67</td>\n",
              "      <td>$64.75</td>\n",
              "      <td>$62.32</td>\n",
              "      <td>$63.57</td>\n",
              "    </tr>\n",
              "    <tr>\n",
              "      <th>210</th>\n",
              "      <td>2/18/2011</td>\n",
              "      <td>$63.67</td>\n",
              "      <td>$64.72</td>\n",
              "      <td>$62.55</td>\n",
              "      <td>$64.55</td>\n",
              "    </tr>\n",
              "    <tr>\n",
              "      <th>211</th>\n",
              "      <td>2/25/2011</td>\n",
              "      <td>$63.36</td>\n",
              "      <td>$64.40</td>\n",
              "      <td>$63.33</td>\n",
              "      <td>$64.31</td>\n",
              "    </tr>\n",
              "    <tr>\n",
              "      <th>212</th>\n",
              "      <td>3/4/2011</td>\n",
              "      <td>$64.17</td>\n",
              "      <td>$65.87</td>\n",
              "      <td>$63.86</td>\n",
              "      <td>$65.21</td>\n",
              "    </tr>\n",
              "    <tr>\n",
              "      <th>213</th>\n",
              "      <td>3/11/2011</td>\n",
              "      <td>$65.32</td>\n",
              "      <td>$65.84</td>\n",
              "      <td>$64.47</td>\n",
              "      <td>$64.81</td>\n",
              "    </tr>\n",
              "    <tr>\n",
              "      <th>214</th>\n",
              "      <td>3/18/2011</td>\n",
              "      <td>$64.34</td>\n",
              "      <td>$64.61</td>\n",
              "      <td>$61.29</td>\n",
              "      <td>$62.70</td>\n",
              "    </tr>\n",
              "    <tr>\n",
              "      <th>215</th>\n",
              "      <td>3/25/2011</td>\n",
              "      <td>$63.13</td>\n",
              "      <td>$65.39</td>\n",
              "      <td>$63.05</td>\n",
              "      <td>$65.22</td>\n",
              "    </tr>\n",
              "    <tr>\n",
              "      <th>581</th>\n",
              "      <td>4/1/2011</td>\n",
              "      <td>$65.20</td>\n",
              "      <td>$67.48</td>\n",
              "      <td>$65.03</td>\n",
              "      <td>$67.22</td>\n",
              "    </tr>\n",
              "    <tr>\n",
              "      <th>582</th>\n",
              "      <td>4/8/2011</td>\n",
              "      <td>$67.22</td>\n",
              "      <td>$67.82</td>\n",
              "      <td>$66.86</td>\n",
              "      <td>$67.27</td>\n",
              "    </tr>\n",
              "    <tr>\n",
              "      <th>583</th>\n",
              "      <td>4/15/2011</td>\n",
              "      <td>$67.25</td>\n",
              "      <td>$68.47</td>\n",
              "      <td>$66.41</td>\n",
              "      <td>$68.01</td>\n",
              "    </tr>\n",
              "    <tr>\n",
              "      <th>584</th>\n",
              "      <td>4/21/2011</td>\n",
              "      <td>$67.57</td>\n",
              "      <td>$68.05</td>\n",
              "      <td>$66.64</td>\n",
              "      <td>$67.88</td>\n",
              "    </tr>\n",
              "    <tr>\n",
              "      <th>585</th>\n",
              "      <td>4/29/2011</td>\n",
              "      <td>$67.95</td>\n",
              "      <td>$67.98</td>\n",
              "      <td>$65.81</td>\n",
              "      <td>$67.46</td>\n",
              "    </tr>\n",
              "    <tr>\n",
              "      <th>586</th>\n",
              "      <td>5/6/2011</td>\n",
              "      <td>$67.76</td>\n",
              "      <td>$67.93</td>\n",
              "      <td>$66.40</td>\n",
              "      <td>$66.90</td>\n",
              "    </tr>\n",
              "    <tr>\n",
              "      <th>587</th>\n",
              "      <td>5/13/2011</td>\n",
              "      <td>$66.86</td>\n",
              "      <td>$68.77</td>\n",
              "      <td>$66.83</td>\n",
              "      <td>$68.18</td>\n",
              "    </tr>\n",
              "    <tr>\n",
              "      <th>588</th>\n",
              "      <td>5/20/2011</td>\n",
              "      <td>$68.10</td>\n",
              "      <td>$68.70</td>\n",
              "      <td>$67.50</td>\n",
              "      <td>$68.30</td>\n",
              "    </tr>\n",
              "    <tr>\n",
              "      <th>589</th>\n",
              "      <td>5/27/2011</td>\n",
              "      <td>$67.59</td>\n",
              "      <td>$67.90</td>\n",
              "      <td>$66.30</td>\n",
              "      <td>$66.51</td>\n",
              "    </tr>\n",
              "    <tr>\n",
              "      <th>590</th>\n",
              "      <td>6/3/2011</td>\n",
              "      <td>$66.94</td>\n",
              "      <td>$67.24</td>\n",
              "      <td>$65.21</td>\n",
              "      <td>$65.53</td>\n",
              "    </tr>\n",
              "    <tr>\n",
              "      <th>591</th>\n",
              "      <td>6/10/2011</td>\n",
              "      <td>$65.51</td>\n",
              "      <td>$68.05</td>\n",
              "      <td>$65.07</td>\n",
              "      <td>$65.39</td>\n",
              "    </tr>\n",
              "    <tr>\n",
              "      <th>592</th>\n",
              "      <td>6/17/2011</td>\n",
              "      <td>$65.10</td>\n",
              "      <td>$66.23</td>\n",
              "      <td>$64.64</td>\n",
              "      <td>$65.62</td>\n",
              "    </tr>\n",
              "    <tr>\n",
              "      <th>593</th>\n",
              "      <td>6/24/2011</td>\n",
              "      <td>$65.37</td>\n",
              "      <td>$66.82</td>\n",
              "      <td>$64.43</td>\n",
              "      <td>$64.93</td>\n",
              "    </tr>\n",
              "  </tbody>\n",
              "</table>\n",
              "</div>\n",
              "      <button class=\"colab-df-convert\" onclick=\"convertToInteractive('df-02f03976-0799-4319-a1dc-a0d7632c11ec')\"\n",
              "              title=\"Convert this dataframe to an interactive table.\"\n",
              "              style=\"display:none;\">\n",
              "        \n",
              "  <svg xmlns=\"http://www.w3.org/2000/svg\" height=\"24px\"viewBox=\"0 0 24 24\"\n",
              "       width=\"24px\">\n",
              "    <path d=\"M0 0h24v24H0V0z\" fill=\"none\"/>\n",
              "    <path d=\"M18.56 5.44l.94 2.06.94-2.06 2.06-.94-2.06-.94-.94-2.06-.94 2.06-2.06.94zm-11 1L8.5 8.5l.94-2.06 2.06-.94-2.06-.94L8.5 2.5l-.94 2.06-2.06.94zm10 10l.94 2.06.94-2.06 2.06-.94-2.06-.94-.94-2.06-.94 2.06-2.06.94z\"/><path d=\"M17.41 7.96l-1.37-1.37c-.4-.4-.92-.59-1.43-.59-.52 0-1.04.2-1.43.59L10.3 9.45l-7.72 7.72c-.78.78-.78 2.05 0 2.83L4 21.41c.39.39.9.59 1.41.59.51 0 1.02-.2 1.41-.59l7.78-7.78 2.81-2.81c.8-.78.8-2.07 0-2.86zM5.41 20L4 18.59l7.72-7.72 1.47 1.35L5.41 20z\"/>\n",
              "  </svg>\n",
              "      </button>\n",
              "      \n",
              "  <style>\n",
              "    .colab-df-container {\n",
              "      display:flex;\n",
              "      flex-wrap:wrap;\n",
              "      gap: 12px;\n",
              "    }\n",
              "\n",
              "    .colab-df-convert {\n",
              "      background-color: #E8F0FE;\n",
              "      border: none;\n",
              "      border-radius: 50%;\n",
              "      cursor: pointer;\n",
              "      display: none;\n",
              "      fill: #1967D2;\n",
              "      height: 32px;\n",
              "      padding: 0 0 0 0;\n",
              "      width: 32px;\n",
              "    }\n",
              "\n",
              "    .colab-df-convert:hover {\n",
              "      background-color: #E2EBFA;\n",
              "      box-shadow: 0px 1px 2px rgba(60, 64, 67, 0.3), 0px 1px 3px 1px rgba(60, 64, 67, 0.15);\n",
              "      fill: #174EA6;\n",
              "    }\n",
              "\n",
              "    [theme=dark] .colab-df-convert {\n",
              "      background-color: #3B4455;\n",
              "      fill: #D2E3FC;\n",
              "    }\n",
              "\n",
              "    [theme=dark] .colab-df-convert:hover {\n",
              "      background-color: #434B5C;\n",
              "      box-shadow: 0px 1px 3px 1px rgba(0, 0, 0, 0.15);\n",
              "      filter: drop-shadow(0px 1px 2px rgba(0, 0, 0, 0.3));\n",
              "      fill: #FFFFFF;\n",
              "    }\n",
              "  </style>\n",
              "\n",
              "      <script>\n",
              "        const buttonEl =\n",
              "          document.querySelector('#df-02f03976-0799-4319-a1dc-a0d7632c11ec button.colab-df-convert');\n",
              "        buttonEl.style.display =\n",
              "          google.colab.kernel.accessAllowed ? 'block' : 'none';\n",
              "\n",
              "        async function convertToInteractive(key) {\n",
              "          const element = document.querySelector('#df-02f03976-0799-4319-a1dc-a0d7632c11ec');\n",
              "          const dataTable =\n",
              "            await google.colab.kernel.invokeFunction('convertToInteractive',\n",
              "                                                     [key], {});\n",
              "          if (!dataTable) return;\n",
              "\n",
              "          const docLinkHtml = 'Like what you see? Visit the ' +\n",
              "            '<a target=\"_blank\" href=https://colab.research.google.com/notebooks/data_table.ipynb>data table notebook</a>'\n",
              "            + ' to learn more about interactive tables.';\n",
              "          element.innerHTML = '';\n",
              "          dataTable['output_type'] = 'display_data';\n",
              "          await google.colab.output.renderOutput(dataTable, element);\n",
              "          const docLink = document.createElement('div');\n",
              "          docLink.innerHTML = docLinkHtml;\n",
              "          element.appendChild(docLink);\n",
              "        }\n",
              "      </script>\n",
              "    </div>\n",
              "  </div>\n",
              "  "
            ]
          },
          "metadata": {},
          "execution_count": 49
        }
      ]
    },
    {
      "cell_type": "code",
      "source": [
        "# Verifique o tipo dos dados\n",
        "df_ko.dtypes\n",
        "#repare q todos sao textos(objetos com pandas)"
      ],
      "metadata": {
        "id": "ATFBfmwjdvnN",
        "colab": {
          "base_uri": "https://localhost:8080/"
        },
        "outputId": "5ffe346c-7617-4cb4-a1cd-ddfb3f0087c8"
      },
      "execution_count": null,
      "outputs": [
        {
          "output_type": "execute_result",
          "data": {
            "text/plain": [
              "date      object\n",
              "open     float64\n",
              "high     float64\n",
              "low      float64\n",
              "close    float64\n",
              "dtype: object"
            ]
          },
          "metadata": {},
          "execution_count": 51
        }
      ]
    },
    {
      "cell_type": "markdown",
      "source": [
        "Vamos limpar as colunas com o método `apply`, que permite a aplicação de uma função anônima (`lambda`) qualquer. A função `lambda` remove o caracter **$** e faz a conversão do tipo de `str` para `float`."
      ],
      "metadata": {
        "id": "Bj9SOnpUd1yl"
      }
    },
    {
      "cell_type": "code",
      "source": [
        "for elemento in ['open', 'high', 'low', 'close']:\n",
        "  df_ko[elemento] = df_ko[elemento].apply(lambda value: float(value.split(sep='$')[-1]))\n"
      ],
      "metadata": {
        "id": "oqo9xcD7d5I9"
      },
      "execution_count": null,
      "outputs": []
    },
    {
      "cell_type": "markdown",
      "source": [
        "Verifique novamente os dados e seus tipos.\n"
      ],
      "metadata": {
        "id": "lUTImNAOd5Rd"
      }
    },
    {
      "cell_type": "code",
      "source": [
        "# Visualize novamente os dados do dataframe\n",
        "df_ko.head(n=100)"
      ],
      "metadata": {
        "id": "FqKq4rzXd6Nm",
        "colab": {
          "base_uri": "https://localhost:8080/",
          "height": 833
        },
        "outputId": "c175c2c4-2f67-4f3f-8f77-20a81b595db1"
      },
      "execution_count": null,
      "outputs": [
        {
          "output_type": "execute_result",
          "data": {
            "text/plain": [
              "          date   open   high    low  close\n",
              "204   1/7/2011  65.88  65.88  62.56  62.92\n",
              "205  1/14/2011  62.70  63.86  62.56  63.13\n",
              "206  1/21/2011  63.21  63.92  62.72  62.77\n",
              "207  1/28/2011  62.87  63.31  62.14  62.21\n",
              "208   2/4/2011  62.32  63.48  61.89  62.56\n",
              "209  2/11/2011  62.67  64.75  62.32  63.57\n",
              "210  2/18/2011  63.67  64.72  62.55  64.55\n",
              "211  2/25/2011  63.36  64.40  63.33  64.31\n",
              "212   3/4/2011  64.17  65.87  63.86  65.21\n",
              "213  3/11/2011  65.32  65.84  64.47  64.81\n",
              "214  3/18/2011  64.34  64.61  61.29  62.70\n",
              "215  3/25/2011  63.13  65.39  63.05  65.22\n",
              "581   4/1/2011  65.20  67.48  65.03  67.22\n",
              "582   4/8/2011  67.22  67.82  66.86  67.27\n",
              "583  4/15/2011  67.25  68.47  66.41  68.01\n",
              "584  4/21/2011  67.57  68.05  66.64  67.88\n",
              "585  4/29/2011  67.95  67.98  65.81  67.46\n",
              "586   5/6/2011  67.76  67.93  66.40  66.90\n",
              "587  5/13/2011  66.86  68.77  66.83  68.18\n",
              "588  5/20/2011  68.10  68.70  67.50  68.30\n",
              "589  5/27/2011  67.59  67.90  66.30  66.51\n",
              "590   6/3/2011  66.94  67.24  65.21  65.53\n",
              "591  6/10/2011  65.51  68.05  65.07  65.39\n",
              "592  6/17/2011  65.10  66.23  64.64  65.62\n",
              "593  6/24/2011  65.37  66.82  64.43  64.93"
            ],
            "text/html": [
              "\n",
              "  <div id=\"df-61b0eb81-7cfa-4f37-a620-6aba49fbc898\">\n",
              "    <div class=\"colab-df-container\">\n",
              "      <div>\n",
              "<style scoped>\n",
              "    .dataframe tbody tr th:only-of-type {\n",
              "        vertical-align: middle;\n",
              "    }\n",
              "\n",
              "    .dataframe tbody tr th {\n",
              "        vertical-align: top;\n",
              "    }\n",
              "\n",
              "    .dataframe thead th {\n",
              "        text-align: right;\n",
              "    }\n",
              "</style>\n",
              "<table border=\"1\" class=\"dataframe\">\n",
              "  <thead>\n",
              "    <tr style=\"text-align: right;\">\n",
              "      <th></th>\n",
              "      <th>date</th>\n",
              "      <th>open</th>\n",
              "      <th>high</th>\n",
              "      <th>low</th>\n",
              "      <th>close</th>\n",
              "    </tr>\n",
              "  </thead>\n",
              "  <tbody>\n",
              "    <tr>\n",
              "      <th>204</th>\n",
              "      <td>1/7/2011</td>\n",
              "      <td>65.88</td>\n",
              "      <td>65.88</td>\n",
              "      <td>62.56</td>\n",
              "      <td>62.92</td>\n",
              "    </tr>\n",
              "    <tr>\n",
              "      <th>205</th>\n",
              "      <td>1/14/2011</td>\n",
              "      <td>62.70</td>\n",
              "      <td>63.86</td>\n",
              "      <td>62.56</td>\n",
              "      <td>63.13</td>\n",
              "    </tr>\n",
              "    <tr>\n",
              "      <th>206</th>\n",
              "      <td>1/21/2011</td>\n",
              "      <td>63.21</td>\n",
              "      <td>63.92</td>\n",
              "      <td>62.72</td>\n",
              "      <td>62.77</td>\n",
              "    </tr>\n",
              "    <tr>\n",
              "      <th>207</th>\n",
              "      <td>1/28/2011</td>\n",
              "      <td>62.87</td>\n",
              "      <td>63.31</td>\n",
              "      <td>62.14</td>\n",
              "      <td>62.21</td>\n",
              "    </tr>\n",
              "    <tr>\n",
              "      <th>208</th>\n",
              "      <td>2/4/2011</td>\n",
              "      <td>62.32</td>\n",
              "      <td>63.48</td>\n",
              "      <td>61.89</td>\n",
              "      <td>62.56</td>\n",
              "    </tr>\n",
              "    <tr>\n",
              "      <th>209</th>\n",
              "      <td>2/11/2011</td>\n",
              "      <td>62.67</td>\n",
              "      <td>64.75</td>\n",
              "      <td>62.32</td>\n",
              "      <td>63.57</td>\n",
              "    </tr>\n",
              "    <tr>\n",
              "      <th>210</th>\n",
              "      <td>2/18/2011</td>\n",
              "      <td>63.67</td>\n",
              "      <td>64.72</td>\n",
              "      <td>62.55</td>\n",
              "      <td>64.55</td>\n",
              "    </tr>\n",
              "    <tr>\n",
              "      <th>211</th>\n",
              "      <td>2/25/2011</td>\n",
              "      <td>63.36</td>\n",
              "      <td>64.40</td>\n",
              "      <td>63.33</td>\n",
              "      <td>64.31</td>\n",
              "    </tr>\n",
              "    <tr>\n",
              "      <th>212</th>\n",
              "      <td>3/4/2011</td>\n",
              "      <td>64.17</td>\n",
              "      <td>65.87</td>\n",
              "      <td>63.86</td>\n",
              "      <td>65.21</td>\n",
              "    </tr>\n",
              "    <tr>\n",
              "      <th>213</th>\n",
              "      <td>3/11/2011</td>\n",
              "      <td>65.32</td>\n",
              "      <td>65.84</td>\n",
              "      <td>64.47</td>\n",
              "      <td>64.81</td>\n",
              "    </tr>\n",
              "    <tr>\n",
              "      <th>214</th>\n",
              "      <td>3/18/2011</td>\n",
              "      <td>64.34</td>\n",
              "      <td>64.61</td>\n",
              "      <td>61.29</td>\n",
              "      <td>62.70</td>\n",
              "    </tr>\n",
              "    <tr>\n",
              "      <th>215</th>\n",
              "      <td>3/25/2011</td>\n",
              "      <td>63.13</td>\n",
              "      <td>65.39</td>\n",
              "      <td>63.05</td>\n",
              "      <td>65.22</td>\n",
              "    </tr>\n",
              "    <tr>\n",
              "      <th>581</th>\n",
              "      <td>4/1/2011</td>\n",
              "      <td>65.20</td>\n",
              "      <td>67.48</td>\n",
              "      <td>65.03</td>\n",
              "      <td>67.22</td>\n",
              "    </tr>\n",
              "    <tr>\n",
              "      <th>582</th>\n",
              "      <td>4/8/2011</td>\n",
              "      <td>67.22</td>\n",
              "      <td>67.82</td>\n",
              "      <td>66.86</td>\n",
              "      <td>67.27</td>\n",
              "    </tr>\n",
              "    <tr>\n",
              "      <th>583</th>\n",
              "      <td>4/15/2011</td>\n",
              "      <td>67.25</td>\n",
              "      <td>68.47</td>\n",
              "      <td>66.41</td>\n",
              "      <td>68.01</td>\n",
              "    </tr>\n",
              "    <tr>\n",
              "      <th>584</th>\n",
              "      <td>4/21/2011</td>\n",
              "      <td>67.57</td>\n",
              "      <td>68.05</td>\n",
              "      <td>66.64</td>\n",
              "      <td>67.88</td>\n",
              "    </tr>\n",
              "    <tr>\n",
              "      <th>585</th>\n",
              "      <td>4/29/2011</td>\n",
              "      <td>67.95</td>\n",
              "      <td>67.98</td>\n",
              "      <td>65.81</td>\n",
              "      <td>67.46</td>\n",
              "    </tr>\n",
              "    <tr>\n",
              "      <th>586</th>\n",
              "      <td>5/6/2011</td>\n",
              "      <td>67.76</td>\n",
              "      <td>67.93</td>\n",
              "      <td>66.40</td>\n",
              "      <td>66.90</td>\n",
              "    </tr>\n",
              "    <tr>\n",
              "      <th>587</th>\n",
              "      <td>5/13/2011</td>\n",
              "      <td>66.86</td>\n",
              "      <td>68.77</td>\n",
              "      <td>66.83</td>\n",
              "      <td>68.18</td>\n",
              "    </tr>\n",
              "    <tr>\n",
              "      <th>588</th>\n",
              "      <td>5/20/2011</td>\n",
              "      <td>68.10</td>\n",
              "      <td>68.70</td>\n",
              "      <td>67.50</td>\n",
              "      <td>68.30</td>\n",
              "    </tr>\n",
              "    <tr>\n",
              "      <th>589</th>\n",
              "      <td>5/27/2011</td>\n",
              "      <td>67.59</td>\n",
              "      <td>67.90</td>\n",
              "      <td>66.30</td>\n",
              "      <td>66.51</td>\n",
              "    </tr>\n",
              "    <tr>\n",
              "      <th>590</th>\n",
              "      <td>6/3/2011</td>\n",
              "      <td>66.94</td>\n",
              "      <td>67.24</td>\n",
              "      <td>65.21</td>\n",
              "      <td>65.53</td>\n",
              "    </tr>\n",
              "    <tr>\n",
              "      <th>591</th>\n",
              "      <td>6/10/2011</td>\n",
              "      <td>65.51</td>\n",
              "      <td>68.05</td>\n",
              "      <td>65.07</td>\n",
              "      <td>65.39</td>\n",
              "    </tr>\n",
              "    <tr>\n",
              "      <th>592</th>\n",
              "      <td>6/17/2011</td>\n",
              "      <td>65.10</td>\n",
              "      <td>66.23</td>\n",
              "      <td>64.64</td>\n",
              "      <td>65.62</td>\n",
              "    </tr>\n",
              "    <tr>\n",
              "      <th>593</th>\n",
              "      <td>6/24/2011</td>\n",
              "      <td>65.37</td>\n",
              "      <td>66.82</td>\n",
              "      <td>64.43</td>\n",
              "      <td>64.93</td>\n",
              "    </tr>\n",
              "  </tbody>\n",
              "</table>\n",
              "</div>\n",
              "      <button class=\"colab-df-convert\" onclick=\"convertToInteractive('df-61b0eb81-7cfa-4f37-a620-6aba49fbc898')\"\n",
              "              title=\"Convert this dataframe to an interactive table.\"\n",
              "              style=\"display:none;\">\n",
              "        \n",
              "  <svg xmlns=\"http://www.w3.org/2000/svg\" height=\"24px\"viewBox=\"0 0 24 24\"\n",
              "       width=\"24px\">\n",
              "    <path d=\"M0 0h24v24H0V0z\" fill=\"none\"/>\n",
              "    <path d=\"M18.56 5.44l.94 2.06.94-2.06 2.06-.94-2.06-.94-.94-2.06-.94 2.06-2.06.94zm-11 1L8.5 8.5l.94-2.06 2.06-.94-2.06-.94L8.5 2.5l-.94 2.06-2.06.94zm10 10l.94 2.06.94-2.06 2.06-.94-2.06-.94-.94-2.06-.94 2.06-2.06.94z\"/><path d=\"M17.41 7.96l-1.37-1.37c-.4-.4-.92-.59-1.43-.59-.52 0-1.04.2-1.43.59L10.3 9.45l-7.72 7.72c-.78.78-.78 2.05 0 2.83L4 21.41c.39.39.9.59 1.41.59.51 0 1.02-.2 1.41-.59l7.78-7.78 2.81-2.81c.8-.78.8-2.07 0-2.86zM5.41 20L4 18.59l7.72-7.72 1.47 1.35L5.41 20z\"/>\n",
              "  </svg>\n",
              "      </button>\n",
              "      \n",
              "  <style>\n",
              "    .colab-df-container {\n",
              "      display:flex;\n",
              "      flex-wrap:wrap;\n",
              "      gap: 12px;\n",
              "    }\n",
              "\n",
              "    .colab-df-convert {\n",
              "      background-color: #E8F0FE;\n",
              "      border: none;\n",
              "      border-radius: 50%;\n",
              "      cursor: pointer;\n",
              "      display: none;\n",
              "      fill: #1967D2;\n",
              "      height: 32px;\n",
              "      padding: 0 0 0 0;\n",
              "      width: 32px;\n",
              "    }\n",
              "\n",
              "    .colab-df-convert:hover {\n",
              "      background-color: #E2EBFA;\n",
              "      box-shadow: 0px 1px 2px rgba(60, 64, 67, 0.3), 0px 1px 3px 1px rgba(60, 64, 67, 0.15);\n",
              "      fill: #174EA6;\n",
              "    }\n",
              "\n",
              "    [theme=dark] .colab-df-convert {\n",
              "      background-color: #3B4455;\n",
              "      fill: #D2E3FC;\n",
              "    }\n",
              "\n",
              "    [theme=dark] .colab-df-convert:hover {\n",
              "      background-color: #434B5C;\n",
              "      box-shadow: 0px 1px 3px 1px rgba(0, 0, 0, 0.15);\n",
              "      filter: drop-shadow(0px 1px 2px rgba(0, 0, 0, 0.3));\n",
              "      fill: #FFFFFF;\n",
              "    }\n",
              "  </style>\n",
              "\n",
              "      <script>\n",
              "        const buttonEl =\n",
              "          document.querySelector('#df-61b0eb81-7cfa-4f37-a620-6aba49fbc898 button.colab-df-convert');\n",
              "        buttonEl.style.display =\n",
              "          google.colab.kernel.accessAllowed ? 'block' : 'none';\n",
              "\n",
              "        async function convertToInteractive(key) {\n",
              "          const element = document.querySelector('#df-61b0eb81-7cfa-4f37-a620-6aba49fbc898');\n",
              "          const dataTable =\n",
              "            await google.colab.kernel.invokeFunction('convertToInteractive',\n",
              "                                                     [key], {});\n",
              "          if (!dataTable) return;\n",
              "\n",
              "          const docLinkHtml = 'Like what you see? Visit the ' +\n",
              "            '<a target=\"_blank\" href=https://colab.research.google.com/notebooks/data_table.ipynb>data table notebook</a>'\n",
              "            + ' to learn more about interactive tables.';\n",
              "          element.innerHTML = '';\n",
              "          dataTable['output_type'] = 'display_data';\n",
              "          await google.colab.output.renderOutput(dataTable, element);\n",
              "          const docLink = document.createElement('div');\n",
              "          docLink.innerHTML = docLinkHtml;\n",
              "          element.appendChild(docLink);\n",
              "        }\n",
              "      </script>\n",
              "    </div>\n",
              "  </div>\n",
              "  "
            ]
          },
          "metadata": {},
          "execution_count": 53
        }
      ]
    },
    {
      "cell_type": "code",
      "source": [
        "# Verifique novamente o tipo dos dados\n",
        "df_ko.dtypes"
      ],
      "metadata": {
        "id": "EwgmhqZSd9YF",
        "colab": {
          "base_uri": "https://localhost:8080/"
        },
        "outputId": "485441a2-90a6-4db5-d9d7-cd96bbecad52"
      },
      "execution_count": null,
      "outputs": [
        {
          "output_type": "execute_result",
          "data": {
            "text/plain": [
              "date      object\n",
              "open     float64\n",
              "high     float64\n",
              "low      float64\n",
              "close    float64\n",
              "dtype: object"
            ]
          },
          "metadata": {},
          "execution_count": 54
        }
      ]
    },
    {
      "cell_type": "markdown",
      "source": [
        "Excelente, agora podemos explorar os dados visualmente.\n"
      ],
      "metadata": {
        "id": "zc5LEip-d_u1"
      }
    },
    {
      "cell_type": "markdown",
      "source": [
        "## 2\\. Seaborn"
      ],
      "metadata": {
        "id": "ST3eEFB8eClV"
      }
    },
    {
      "cell_type": "markdown",
      "source": [
        "Para visualizar os dados, vamos utilizar o pacote `seaborn` na versão `0.11.1`. A documentação completa por ser encontrada neste [link](https://seaborn.pydata.org/)\n"
      ],
      "metadata": {
        "id": "7pdSsprOeHbN"
      }
    },
    {
      "cell_type": "code",
      "source": [
        "!pip install seaborn==0.11.1"
      ],
      "metadata": {
        "id": "ohdm6fd8eJQl"
      },
      "execution_count": null,
      "outputs": []
    },
    {
      "cell_type": "markdown",
      "source": [
        "Vamos importar o pacote com o apelido (alias) `sns`.\n"
      ],
      "metadata": {
        "id": "k17fMREHeMtk"
      }
    },
    {
      "cell_type": "code",
      "source": [
        "import seaborn as sns"
      ],
      "metadata": {
        "id": "BUSST5KcePoM"
      },
      "execution_count": null,
      "outputs": []
    },
    {
      "cell_type": "markdown",
      "source": [
        "Vamos visualizar os valores de abertura das ações ao longo do tempo.\n"
      ],
      "metadata": {
        "id": "F9mI1irWeQMU"
      }
    },
    {
      "cell_type": "code",
      "source": [
        "'''ESSE GRÁFICO É SOBRE O DATAFRAME DF_MCD QUE É SOBRE AS AÇÕES DO \n",
        "   MC DONALDS, QUE CRIAMOS ACIMA COM PANDAS.\n",
        "'''\n",
        "sns.set_theme(style=\"whitegrid\",palette=\"tab10\")#posso adicionar as grades ou não\n",
        "\n",
        "                                        #ABAIXO O PARAMETRO Q DIZ SOBRE \n",
        "                                        #QUAL DATAFRAME VAMOS ITERAR\n",
        "plot = sns.lineplot(x=\"date\", y=\"open\", data=df_mcd)\n",
        "_ = plot.set_xticklabels(labels=df_mcd['date'], rotation=90)\n",
        "\n",
        "#sns.lineplot para plotar um grafico de linhas -->(eixo_x='DATE' , eixo_y='OPEN', data= data_frame)"
      ],
      "metadata": {
        "id": "YrdK3JmdeTCl",
        "colab": {
          "base_uri": "https://localhost:8080/",
          "height": 331
        },
        "outputId": "100989f9-3f6e-4735-f5ff-383120dc92c3"
      },
      "execution_count": null,
      "outputs": [
        {
          "output_type": "display_data",
          "data": {
            "text/plain": [
              "<Figure size 432x288 with 1 Axes>"
            ],
            "image/png": "[encoded data removed]"
          },
          "metadata": {}
        }
      ]
    },
    {
      "cell_type": "markdown",
      "source": [
        "Vamos também visualizar os valores de fechamento das ações ao longo do tempo.\n"
      ],
      "metadata": {
        "id": "L0FolMr6eYB8"
      }
    },
    {
      "cell_type": "code",
      "source": [
        "plot = sns.lineplot(x=\"date\", y=\"close\", data=df_mcd)\n",
        "\n",
        "_ = plot.set_xticklabels(labels=df_mcd['date'], rotation=90)# >>>>>>>> rotacionado as datas em 90 graus\n",
        "#UNICA DIFERENÇA DESSE PARA O DE CIMA É QUE NESSE USAMOS O PARAMETRO \n",
        "#CLOSE NO EIXO Y."
      ],
      "metadata": {
        "id": "PF5Q7rpfed3z",
        "colab": {
          "base_uri": "https://localhost:8080/",
          "height": 331
        },
        "outputId": "b6de0a3c-8098-41f3-b905-82b5cf89efae"
      },
      "execution_count": null,
      "outputs": [
        {
          "output_type": "display_data",
          "data": {
            "text/plain": [
              "<Figure size 432x288 with 1 Axes>"
            ],
            "image/png": "[encoded data removed]"
          },
          "metadata": {}
        }
      ]
    },
    {
      "cell_type": "markdown",
      "source": [
        "Para facilitar a comparação, vamo visualizar os quatro valores no mesmo gráfico.\n"
      ],
      "metadata": {
        "id": "buMGhTQ8ef_L"
      }
    },
    {
      "cell_type": "code",
      "source": [
        "plot = sns.lineplot(x=\"date\", y=\"value\", hue='variable', data=pd.melt(df_mcd, ['date']))\n",
        "_ = plot.set_xticklabels(labels=df_mcd['date'], rotation=90)\n",
        "\n",
        "#HUE diferencia os tipos de elementos "
      ],
      "metadata": {
        "id": "ZlZLBdZOeihT",
        "colab": {
          "base_uri": "https://localhost:8080/",
          "height": 331
        },
        "outputId": "3435ac2a-85a1-46f7-95a6-fb235d652ae9"
      },
      "execution_count": null,
      "outputs": [
        {
          "output_type": "display_data",
          "data": {
            "text/plain": [
              "<Figure size 432x288 with 1 Axes>"
            ],
            "image/png": "[encoded data removed]"
          },
          "metadata": {}
        }
      ]
    },
    {
      "cell_type": "markdown",
      "source": [
        "Para finalizar, vamos salvar o gráfico numa figura.\n"
      ],
      "metadata": {
        "id": "IxCeJdLgekhF"
      }
    },
    {
      "cell_type": "code",
      "source": [
        "plot.figure.savefig(\"./mcd.png\")\n"
      ],
      "metadata": {
        "id": "VJ-8zBeTemUL"
      },
      "execution_count": null,
      "outputs": []
    },
    {
      "cell_type": "markdown",
      "source": [
        "**Agora é a sua vez,** faça o gráfico acima para a empresa Coca-Cola e salve a imagem com o nome `ko.png`.\n"
      ],
      "metadata": {
        "id": "6VB4V89pepBD"
      }
    },
    {
      "cell_type": "code",
      "source": [
        "# visualização dos dados da Coca-Cola.\n",
        "df_ko.head(n=100)"
      ],
      "metadata": {
        "id": "TU6CO9JcerDD",
        "colab": {
          "base_uri": "https://localhost:8080/",
          "height": 833
        },
        "outputId": "d04d3116-cc28-4175-ae8f-ebfb89b5389f"
      },
      "execution_count": null,
      "outputs": [
        {
          "output_type": "execute_result",
          "data": {
            "text/plain": [
              "          date   open   high    low  close\n",
              "204   1/7/2011  65.88  65.88  62.56  62.92\n",
              "205  1/14/2011  62.70  63.86  62.56  63.13\n",
              "206  1/21/2011  63.21  63.92  62.72  62.77\n",
              "207  1/28/2011  62.87  63.31  62.14  62.21\n",
              "208   2/4/2011  62.32  63.48  61.89  62.56\n",
              "209  2/11/2011  62.67  64.75  62.32  63.57\n",
              "210  2/18/2011  63.67  64.72  62.55  64.55\n",
              "211  2/25/2011  63.36  64.40  63.33  64.31\n",
              "212   3/4/2011  64.17  65.87  63.86  65.21\n",
              "213  3/11/2011  65.32  65.84  64.47  64.81\n",
              "214  3/18/2011  64.34  64.61  61.29  62.70\n",
              "215  3/25/2011  63.13  65.39  63.05  65.22\n",
              "581   4/1/2011  65.20  67.48  65.03  67.22\n",
              "582   4/8/2011  67.22  67.82  66.86  67.27\n",
              "583  4/15/2011  67.25  68.47  66.41  68.01\n",
              "584  4/21/2011  67.57  68.05  66.64  67.88\n",
              "585  4/29/2011  67.95  67.98  65.81  67.46\n",
              "586   5/6/2011  67.76  67.93  66.40  66.90\n",
              "587  5/13/2011  66.86  68.77  66.83  68.18\n",
              "588  5/20/2011  68.10  68.70  67.50  68.30\n",
              "589  5/27/2011  67.59  67.90  66.30  66.51\n",
              "590   6/3/2011  66.94  67.24  65.21  65.53\n",
              "591  6/10/2011  65.51  68.05  65.07  65.39\n",
              "592  6/17/2011  65.10  66.23  64.64  65.62\n",
              "593  6/24/2011  65.37  66.82  64.43  64.93"
            ],
            "text/html": [
              "\n",
              "  <div id=\"df-3bf7ec0a-b1e0-48cd-ad97-1ee1c542afc8\">\n",
              "    <div class=\"colab-df-container\">\n",
              "      <div>\n",
              "<style scoped>\n",
              "    .dataframe tbody tr th:only-of-type {\n",
              "        vertical-align: middle;\n",
              "    }\n",
              "\n",
              "    .dataframe tbody tr th {\n",
              "        vertical-align: top;\n",
              "    }\n",
              "\n",
              "    .dataframe thead th {\n",
              "        text-align: right;\n",
              "    }\n",
              "</style>\n",
              "<table border=\"1\" class=\"dataframe\">\n",
              "  <thead>\n",
              "    <tr style=\"text-align: right;\">\n",
              "      <th></th>\n",
              "      <th>date</th>\n",
              "      <th>open</th>\n",
              "      <th>high</th>\n",
              "      <th>low</th>\n",
              "      <th>close</th>\n",
              "    </tr>\n",
              "  </thead>\n",
              "  <tbody>\n",
              "    <tr>\n",
              "      <th>204</th>\n",
              "      <td>1/7/2011</td>\n",
              "      <td>65.88</td>\n",
              "      <td>65.88</td>\n",
              "      <td>62.56</td>\n",
              "      <td>62.92</td>\n",
              "    </tr>\n",
              "    <tr>\n",
              "      <th>205</th>\n",
              "      <td>1/14/2011</td>\n",
              "      <td>62.70</td>\n",
              "      <td>63.86</td>\n",
              "      <td>62.56</td>\n",
              "      <td>63.13</td>\n",
              "    </tr>\n",
              "    <tr>\n",
              "      <th>206</th>\n",
              "      <td>1/21/2011</td>\n",
              "      <td>63.21</td>\n",
              "      <td>63.92</td>\n",
              "      <td>62.72</td>\n",
              "      <td>62.77</td>\n",
              "    </tr>\n",
              "    <tr>\n",
              "      <th>207</th>\n",
              "      <td>1/28/2011</td>\n",
              "      <td>62.87</td>\n",
              "      <td>63.31</td>\n",
              "      <td>62.14</td>\n",
              "      <td>62.21</td>\n",
              "    </tr>\n",
              "    <tr>\n",
              "      <th>208</th>\n",
              "      <td>2/4/2011</td>\n",
              "      <td>62.32</td>\n",
              "      <td>63.48</td>\n",
              "      <td>61.89</td>\n",
              "      <td>62.56</td>\n",
              "    </tr>\n",
              "    <tr>\n",
              "      <th>209</th>\n",
              "      <td>2/11/2011</td>\n",
              "      <td>62.67</td>\n",
              "      <td>64.75</td>\n",
              "      <td>62.32</td>\n",
              "      <td>63.57</td>\n",
              "    </tr>\n",
              "    <tr>\n",
              "      <th>210</th>\n",
              "      <td>2/18/2011</td>\n",
              "      <td>63.67</td>\n",
              "      <td>64.72</td>\n",
              "      <td>62.55</td>\n",
              "      <td>64.55</td>\n",
              "    </tr>\n",
              "    <tr>\n",
              "      <th>211</th>\n",
              "      <td>2/25/2011</td>\n",
              "      <td>63.36</td>\n",
              "      <td>64.40</td>\n",
              "      <td>63.33</td>\n",
              "      <td>64.31</td>\n",
              "    </tr>\n",
              "    <tr>\n",
              "      <th>212</th>\n",
              "      <td>3/4/2011</td>\n",
              "      <td>64.17</td>\n",
              "      <td>65.87</td>\n",
              "      <td>63.86</td>\n",
              "      <td>65.21</td>\n",
              "    </tr>\n",
              "    <tr>\n",
              "      <th>213</th>\n",
              "      <td>3/11/2011</td>\n",
              "      <td>65.32</td>\n",
              "      <td>65.84</td>\n",
              "      <td>64.47</td>\n",
              "      <td>64.81</td>\n",
              "    </tr>\n",
              "    <tr>\n",
              "      <th>214</th>\n",
              "      <td>3/18/2011</td>\n",
              "      <td>64.34</td>\n",
              "      <td>64.61</td>\n",
              "      <td>61.29</td>\n",
              "      <td>62.70</td>\n",
              "    </tr>\n",
              "    <tr>\n",
              "      <th>215</th>\n",
              "      <td>3/25/2011</td>\n",
              "      <td>63.13</td>\n",
              "      <td>65.39</td>\n",
              "      <td>63.05</td>\n",
              "      <td>65.22</td>\n",
              "    </tr>\n",
              "    <tr>\n",
              "      <th>581</th>\n",
              "      <td>4/1/2011</td>\n",
              "      <td>65.20</td>\n",
              "      <td>67.48</td>\n",
              "      <td>65.03</td>\n",
              "      <td>67.22</td>\n",
              "    </tr>\n",
              "    <tr>\n",
              "      <th>582</th>\n",
              "      <td>4/8/2011</td>\n",
              "      <td>67.22</td>\n",
              "      <td>67.82</td>\n",
              "      <td>66.86</td>\n",
              "      <td>67.27</td>\n",
              "    </tr>\n",
              "    <tr>\n",
              "      <th>583</th>\n",
              "      <td>4/15/2011</td>\n",
              "      <td>67.25</td>\n",
              "      <td>68.47</td>\n",
              "      <td>66.41</td>\n",
              "      <td>68.01</td>\n",
              "    </tr>\n",
              "    <tr>\n",
              "      <th>584</th>\n",
              "      <td>4/21/2011</td>\n",
              "      <td>67.57</td>\n",
              "      <td>68.05</td>\n",
              "      <td>66.64</td>\n",
              "      <td>67.88</td>\n",
              "    </tr>\n",
              "    <tr>\n",
              "      <th>585</th>\n",
              "      <td>4/29/2011</td>\n",
              "      <td>67.95</td>\n",
              "      <td>67.98</td>\n",
              "      <td>65.81</td>\n",
              "      <td>67.46</td>\n",
              "    </tr>\n",
              "    <tr>\n",
              "      <th>586</th>\n",
              "      <td>5/6/2011</td>\n",
              "      <td>67.76</td>\n",
              "      <td>67.93</td>\n",
              "      <td>66.40</td>\n",
              "      <td>66.90</td>\n",
              "    </tr>\n",
              "    <tr>\n",
              "      <th>587</th>\n",
              "      <td>5/13/2011</td>\n",
              "      <td>66.86</td>\n",
              "      <td>68.77</td>\n",
              "      <td>66.83</td>\n",
              "      <td>68.18</td>\n",
              "    </tr>\n",
              "    <tr>\n",
              "      <th>588</th>\n",
              "      <td>5/20/2011</td>\n",
              "      <td>68.10</td>\n",
              "      <td>68.70</td>\n",
              "      <td>67.50</td>\n",
              "      <td>68.30</td>\n",
              "    </tr>\n",
              "    <tr>\n",
              "      <th>589</th>\n",
              "      <td>5/27/2011</td>\n",
              "      <td>67.59</td>\n",
              "      <td>67.90</td>\n",
              "      <td>66.30</td>\n",
              "      <td>66.51</td>\n",
              "    </tr>\n",
              "    <tr>\n",
              "      <th>590</th>\n",
              "      <td>6/3/2011</td>\n",
              "      <td>66.94</td>\n",
              "      <td>67.24</td>\n",
              "      <td>65.21</td>\n",
              "      <td>65.53</td>\n",
              "    </tr>\n",
              "    <tr>\n",
              "      <th>591</th>\n",
              "      <td>6/10/2011</td>\n",
              "      <td>65.51</td>\n",
              "      <td>68.05</td>\n",
              "      <td>65.07</td>\n",
              "      <td>65.39</td>\n",
              "    </tr>\n",
              "    <tr>\n",
              "      <th>592</th>\n",
              "      <td>6/17/2011</td>\n",
              "      <td>65.10</td>\n",
              "      <td>66.23</td>\n",
              "      <td>64.64</td>\n",
              "      <td>65.62</td>\n",
              "    </tr>\n",
              "    <tr>\n",
              "      <th>593</th>\n",
              "      <td>6/24/2011</td>\n",
              "      <td>65.37</td>\n",
              "      <td>66.82</td>\n",
              "      <td>64.43</td>\n",
              "      <td>64.93</td>\n",
              "    </tr>\n",
              "  </tbody>\n",
              "</table>\n",
              "</div>\n",
              "      <button class=\"colab-df-convert\" onclick=\"convertToInteractive('df-3bf7ec0a-b1e0-48cd-ad97-1ee1c542afc8')\"\n",
              "              title=\"Convert this dataframe to an interactive table.\"\n",
              "              style=\"display:none;\">\n",
              "        \n",
              "  <svg xmlns=\"http://www.w3.org/2000/svg\" height=\"24px\"viewBox=\"0 0 24 24\"\n",
              "       width=\"24px\">\n",
              "    <path d=\"M0 0h24v24H0V0z\" fill=\"none\"/>\n",
              "    <path d=\"M18.56 5.44l.94 2.06.94-2.06 2.06-.94-2.06-.94-.94-2.06-.94 2.06-2.06.94zm-11 1L8.5 8.5l.94-2.06 2.06-.94-2.06-.94L8.5 2.5l-.94 2.06-2.06.94zm10 10l.94 2.06.94-2.06 2.06-.94-2.06-.94-.94-2.06-.94 2.06-2.06.94z\"/><path d=\"M17.41 7.96l-1.37-1.37c-.4-.4-.92-.59-1.43-.59-.52 0-1.04.2-1.43.59L10.3 9.45l-7.72 7.72c-.78.78-.78 2.05 0 2.83L4 21.41c.39.39.9.59 1.41.59.51 0 1.02-.2 1.41-.59l7.78-7.78 2.81-2.81c.8-.78.8-2.07 0-2.86zM5.41 20L4 18.59l7.72-7.72 1.47 1.35L5.41 20z\"/>\n",
              "  </svg>\n",
              "      </button>\n",
              "      \n",
              "  <style>\n",
              "    .colab-df-container {\n",
              "      display:flex;\n",
              "      flex-wrap:wrap;\n",
              "      gap: 12px;\n",
              "    }\n",
              "\n",
              "    .colab-df-convert {\n",
              "      background-color: #E8F0FE;\n",
              "      border: none;\n",
              "      border-radius: 50%;\n",
              "      cursor: pointer;\n",
              "      display: none;\n",
              "      fill: #1967D2;\n",
              "      height: 32px;\n",
              "      padding: 0 0 0 0;\n",
              "      width: 32px;\n",
              "    }\n",
              "\n",
              "    .colab-df-convert:hover {\n",
              "      background-color: #E2EBFA;\n",
              "      box-shadow: 0px 1px 2px rgba(60, 64, 67, 0.3), 0px 1px 3px 1px rgba(60, 64, 67, 0.15);\n",
              "      fill: #174EA6;\n",
              "    }\n",
              "\n",
              "    [theme=dark] .colab-df-convert {\n",
              "      background-color: #3B4455;\n",
              "      fill: #D2E3FC;\n",
              "    }\n",
              "\n",
              "    [theme=dark] .colab-df-convert:hover {\n",
              "      background-color: #434B5C;\n",
              "      box-shadow: 0px 1px 3px 1px rgba(0, 0, 0, 0.15);\n",
              "      filter: drop-shadow(0px 1px 2px rgba(0, 0, 0, 0.3));\n",
              "      fill: #FFFFFF;\n",
              "    }\n",
              "  </style>\n",
              "\n",
              "      <script>\n",
              "        const buttonEl =\n",
              "          document.querySelector('#df-3bf7ec0a-b1e0-48cd-ad97-1ee1c542afc8 button.colab-df-convert');\n",
              "        buttonEl.style.display =\n",
              "          google.colab.kernel.accessAllowed ? 'block' : 'none';\n",
              "\n",
              "        async function convertToInteractive(key) {\n",
              "          const element = document.querySelector('#df-3bf7ec0a-b1e0-48cd-ad97-1ee1c542afc8');\n",
              "          const dataTable =\n",
              "            await google.colab.kernel.invokeFunction('convertToInteractive',\n",
              "                                                     [key], {});\n",
              "          if (!dataTable) return;\n",
              "\n",
              "          const docLinkHtml = 'Like what you see? Visit the ' +\n",
              "            '<a target=\"_blank\" href=https://colab.research.google.com/notebooks/data_table.ipynb>data table notebook</a>'\n",
              "            + ' to learn more about interactive tables.';\n",
              "          element.innerHTML = '';\n",
              "          dataTable['output_type'] = 'display_data';\n",
              "          await google.colab.output.renderOutput(dataTable, element);\n",
              "          const docLink = document.createElement('div');\n",
              "          docLink.innerHTML = docLinkHtml;\n",
              "          element.appendChild(docLink);\n",
              "        }\n",
              "      </script>\n",
              "    </div>\n",
              "  </div>\n",
              "  "
            ]
          },
          "metadata": {},
          "execution_count": 95
        }
      ]
    },
    {
      "cell_type": "markdown",
      "source": [
        "Vamos visualizar os valores de abertura das ações ao longo do tempo.\n"
      ],
      "metadata": {
        "id": "t-42AKqnetXb"
      }
    },
    {
      "cell_type": "code",
      "source": [
        "\n",
        "sns.set_theme(style=\"darkgrid\",palette=\"flare\")\n",
        "\n",
        "plot = sns.lineplot(x='date', y='open', data=df_ko)\n",
        "_ = plot.set_xticklabels(labels=df_mcd['date'], rotation=90)\n",
        "\n",
        "#sns.lineplot para plotar um grafico de linhas -->(eixo_x='DATE' , eixo_y='OPEN', data= data_frame)"
      ],
      "metadata": {
        "id": "1G0kjhfTevhD",
        "colab": {
          "base_uri": "https://localhost:8080/",
          "height": 331
        },
        "outputId": "7b0a8a09-7ef0-4216-98b6-8fed2b43c6ad"
      },
      "execution_count": null,
      "outputs": [
        {
          "output_type": "display_data",
          "data": {
            "text/plain": [
              "<Figure size 432x288 with 1 Axes>"
            ],
            "image/png": "[encoded data removed]"
          },
          "metadata": {}
        }
      ]
    },
    {
      "cell_type": "markdown",
      "source": [
        "Vamos também visualizar os valores de fechamento das ações ao longo do tempo.\n"
      ],
      "metadata": {
        "id": "kzaZd43Eevq7"
      }
    },
    {
      "cell_type": "code",
      "source": [
        "sns.set_theme(style=\"whitegrid\",palette=\"tab10\")\n",
        "sns.lineplot(x='date',y='close',data=df_ko)\n",
        "_ = plot.set_xticklabels(labels=df_mcd['date'], rotation=90)"
      ],
      "metadata": {
        "id": "1uRduHhNewLD",
        "colab": {
          "base_uri": "https://localhost:8080/",
          "height": 285
        },
        "outputId": "7cc2e2cc-16dc-4ca4-d819-80c939e2df27"
      },
      "execution_count": null,
      "outputs": [
        {
          "output_type": "display_data",
          "data": {
            "text/plain": [
              "<Figure size 432x288 with 1 Axes>"
            ],
            "image/png": "[encoded data removed]"
          },
          "metadata": {}
        }
      ]
    },
    {
      "cell_type": "markdown",
      "source": [
        "Para facilitar a comparação, vamo visualizar os quatro valores no mesmo gráfico.\n"
      ],
      "metadata": {
        "id": "vVg1RHiqey9T"
      }
    },
    {
      "cell_type": "code",
      "source": [
        "plot = sns.lineplot(x=\"date\", y=\"value\", hue='variable', data=pd.melt(df_ko, ['date']))\n",
        "_ = plot.set_xticklabels(labels=df_ko['date'], rotation=90)"
      ],
      "metadata": {
        "id": "kUin4Z6XezZz",
        "colab": {
          "base_uri": "https://localhost:8080/",
          "height": 331
        },
        "outputId": "fab6d531-7f4b-4335-fb30-72586a113938"
      },
      "execution_count": null,
      "outputs": [
        {
          "output_type": "display_data",
          "data": {
            "text/plain": [
              "<Figure size 432x288 with 1 Axes>"
            ],
            "image/png": "[encoded data removed]"
          },
          "metadata": {}
        }
      ]
    },
    {
      "cell_type": "markdown",
      "source": [
        "Para finalizar, vamos salvar o gráfico numa figura.\n"
      ],
      "metadata": {
        "id": "8czi5vyLe1gM"
      }
    },
    {
      "cell_type": "code",
      "source": [
        "plot.figure.savefig(\"./ko.png\")\n"
      ],
      "metadata": {
        "id": "xMX8Kj1Ve137"
      },
      "execution_count": null,
      "outputs": []
    },
    {
      "cell_type": "markdown",
      "source": [
        "Analise as duas imagens e escreva pelo menos um *insight* que você consegue extrair dos dados. Fique a vontade para escrever quantos *insights* você quiser.\n"
      ],
      "metadata": {
        "id": "PNUqd-QWe3TL"
      }
    },
    {
      "cell_type": "markdown",
      "source": [
        "Obs: *Insights* são observações sobre o que você percebe/entende/interpreta em suas análises. No caso deste exercício, você vai analisar os dados dos gráficos da empresa McDonalds e da empresa Cola-Cola e notar o que os dados gerados podem ser interessante, que tipo de interpretação o comportamento dos dados estão te trazendo."
      ],
      "metadata": {
        "id": "T-7Z8On2e3tj"
      }
    },
    {
      "cell_type": "markdown",
      "source": [
        "##  INSIGHT"
      ],
      "metadata": {
        "id": "HnR2mL9fvjec"
      }
    },
    {
      "cell_type": "markdown",
      "source": [
        "\n",
        "---\n",
        "É notável o melhor desempenho do MC Donalds em relação a Coca Cola.\n",
        "Pelo menos nesses intervalo de tempo, MCD manteu-se em uma tendência de alta\n",
        "enquanto a KO por volta de maio, mostrou uma reação negativa perante os Highs and lowers, que começara a ser high mais baixos que os anteriores e Lowers mais \n",
        "fundas q as anteriores, mostrando que num curto prazo, a ação encontra-se em uma\n",
        "sútil tendência de baixa, que na análise técnica chamamos de correção. Mas nada impede que algo fundamentalista tenha acontecido com a empresa e graficamente ela esteja em uma queda.\n",
        "\n",
        "---\n",
        "\n"
      ],
      "metadata": {
        "id": "B81UFxkqtz-X"
      }
    },
    {
      "cell_type": "markdown",
      "source": [
        "_*Fica nítido comparando os dois gráficos à seguir*_"
      ],
      "metadata": {
        "id": "4qEUm9wRwNej"
      }
    },
    {
      "cell_type": "code",
      "source": [
        "plot = sns.lineplot(x=\"date\", y=\"value\", hue='variable', data=pd.melt(df_mcd, ['date']))\n",
        "_ = plot.set_xticklabels(labels=df_mcd['date'], rotation=90)\n",
        "\n",
        "#MC DONALDS"
      ],
      "metadata": {
        "colab": {
          "base_uri": "https://localhost:8080/",
          "height": 331
        },
        "id": "B82pM-Dgs-2J",
        "outputId": "403c83e0-07ff-485e-99db-7fe35bd408fa"
      },
      "execution_count": null,
      "outputs": [
        {
          "output_type": "display_data",
          "data": {
            "text/plain": [
              "<Figure size 432x288 with 1 Axes>"
            ],
            "image/png": "[encoded data removed]"
          },
          "metadata": {}
        }
      ]
    },
    {
      "cell_type": "code",
      "source": [
        "plot = sns.lineplot(x=\"date\", y=\"value\", hue='variable', data=pd.melt(df_ko, ['date']))\n",
        "_ = plot.set_xticklabels(labels=df_ko['date'], rotation=90)\n",
        "#COCA COLA"
      ],
      "metadata": {
        "colab": {
          "base_uri": "https://localhost:8080/",
          "height": 331
        },
        "id": "3_TEU6qTtawY",
        "outputId": "7279e940-5a59-4772-d03b-f500e6f85d9f"
      },
      "execution_count": null,
      "outputs": [
        {
          "output_type": "display_data",
          "data": {
            "text/plain": [
              "<Figure size 432x288 with 1 Axes>"
            ],
            "image/png": "[encoded data removed]"
          },
          "metadata": {}
        }
      ]
    }
  ]
}