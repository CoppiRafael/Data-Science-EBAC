{
  "nbformat": 4,
  "nbformat_minor": 0,
  "metadata": {
    "colab": {
      "provenance": []
    },
    "kernelspec": {
      "name": "python3",
      "display_name": "Python 3"
    },
    "language_info": {
      "name": "python"
    }
  },
  "cells": [
    {
      "cell_type": "markdown",
      "source": [
        "# **Exercícios**"
      ],
      "metadata": {
        "id": "Svj1m_CBHWA4"
      }
    },
    {
      "cell_type": "markdown",
      "source": [
        "## 1\\. Erros de sintaxe"
      ],
      "metadata": {
        "id": "Bi_w8LfLHawP"
      }
    },
    {
      "cell_type": "markdown",
      "source": [
        "Identifique o erro de sintaxe nos trechos de código abaixo e corrija-os para que o trecho de código funcione."
      ],
      "metadata": {
        "id": "polhUpnxHbWW"
      }
    },
    {
      "cell_type": "markdown",
      "source": [
        " - Laços de repetição."
      ],
      "metadata": {
        "id": "aSvrs3n6HdgO"
      }
    },
    {
      "cell_type": "code",
      "source": [
        "credito = {'123': 750, '456': 812, '789': 980}\n",
        "\n",
        "for chave, valor in credito.items():\n",
        "  print(f'Para o documento {chave}, o valor do escore de crédito é {valor}.')"
      ],
      "metadata": {
        "colab": {
          "base_uri": "https://localhost:8080/"
        },
        "id": "qn1crvzJHgUq",
        "outputId": "30d439aa-6b7a-4d45-bc38-8cf519811a04"
      },
      "execution_count": 1,
      "outputs": [
        {
          "output_type": "stream",
          "name": "stdout",
          "text": [
            "Para o documento 123, o valor do escore de crédito é 750.\n",
            "Para o documento 456, o valor do escore de crédito é 812.\n",
            "Para o documento 789, o valor do escore de crédito é 980.\n"
          ]
        }
      ]
    },
    {
      "cell_type": "markdown",
      "source": [
        " - Funções"
      ],
      "metadata": {
        "id": "8mEadCnTHw2F"
      }
    },
    {
      "cell_type": "code",
      "source": [
        "def pi() -> float:\n",
        "  return 3.14159265359\n",
        "\n",
        "pi = pi()\n",
        "print(pi)"
      ],
      "metadata": {
        "colab": {
          "base_uri": "https://localhost:8080/"
        },
        "id": "Yf3ykoeJH04V",
        "outputId": "129e35d7-02ed-4244-fc98-f99203c28d33"
      },
      "execution_count": 3,
      "outputs": [
        {
          "output_type": "stream",
          "name": "stdout",
          "text": [
            "3.14159265359\n"
          ]
        }
      ]
    },
    {
      "cell_type": "markdown",
      "source": [
        "- Programação Funcional"
      ],
      "metadata": {
        "id": "n_MpIqvXIVBk"
      }
    },
    {
      "cell_type": "code",
      "source": [
        "emails = ['andre.perez@gmail.com', 'andre.perez@live.com', 'andre.perez@yahoo.com']\n",
        "#Usando comprehensions\n",
        "'''compreh = [x for x in emails if 'gmail' in x]\n",
        "print(compreh)'''\n",
        "#prog funcional\n",
        "provedor_da_google = lambda emails: 'gmail' in emails\n",
        "\n",
        "emails_google = filter(provedor_da_google, emails)\n",
        "print(list(emails_google))\n"
      ],
      "metadata": {
        "colab": {
          "base_uri": "https://localhost:8080/"
        },
        "id": "PUlWtiwCJQgy",
        "outputId": "46ddee1e-0198-460b-99a6-4790f995a964"
      },
      "execution_count": 12,
      "outputs": [
        {
          "output_type": "stream",
          "name": "stdout",
          "text": [
            "['andre.perez@gmail.com']\n"
          ]
        }
      ]
    },
    {
      "cell_type": "markdown",
      "source": [
        "- Programação orientação a objetos"
      ],
      "metadata": {
        "id": "-e_XG14bIY7W"
      }
    },
    {
      "cell_type": "code",
      "source": [
        "class Pessoa(object):\n",
        "\n",
        "  def __init__(self, nome: str, idade: int, documento: str):\n",
        "    self.nome = nome\n",
        "    self.idade = idade\n",
        "    self.documento = documento\n",
        "  #testando\n",
        "  def falar(self):\n",
        "    print(f'{self.nome} está falando')\n",
        "    \n",
        "andre = Pessoa(nome=\"Andre\", idade=30, documento=\"123\")\n",
        "andre.falar()"
      ],
      "metadata": {
        "colab": {
          "base_uri": "https://localhost:8080/"
        },
        "id": "3bRKzqXNIakU",
        "outputId": "fa1070ce-e998-4d2f-a2fa-8d059a349b76"
      },
      "execution_count": 15,
      "outputs": [
        {
          "output_type": "stream",
          "name": "stdout",
          "text": [
            "Andre está falando\n"
          ]
        }
      ]
    },
    {
      "cell_type": "markdown",
      "source": [
        "## 2\\. Erros em tempo de execução"
      ],
      "metadata": {
        "id": "KBlVbSgOMTI2"
      }
    },
    {
      "cell_type": "markdown",
      "source": [
        "Neste exercício vamos trabalhar com o arquivo csv com dados de crédito, definido abaixo. Execute cada uma das células de código para escrever os arquivos na sua máquina virtual."
      ],
      "metadata": {
        "id": "bGrRfc1PMUUN"
      }
    },
    {
      "cell_type": "code",
      "source": [
        "%%writefile credito.csv\n",
        "id_vendedor,valor_emprestimos,quantidade_emprestimos,data\n",
        "104271,448.0,1,20161208\n",
        "21476,826.7,3,20161208\n",
        "87440,313.6,3,20161208\n",
        "15980,808.0,6,20161208\n",
        "215906,2212.0,5,20161208\n",
        "33696,2771.3,2,20161208\n",
        "33893,2240.0,3,20161208\n",
        "214946,\"4151.0\",18,20161208\n",
        "123974,2021.95,2,20161208\n",
        "225870,4039.0,2,20161208"
      ],
      "metadata": {
        "colab": {
          "base_uri": "https://localhost:8080/"
        },
        "id": "bVShY9rIMYDZ",
        "outputId": "a2aba0d1-d5db-45a2-808c-7813b100f605"
      },
      "execution_count": 17,
      "outputs": [
        {
          "output_type": "stream",
          "name": "stdout",
          "text": [
            "Writing credito.csv\n"
          ]
        }
      ]
    },
    {
      "cell_type": "markdown",
      "source": [
        "O código abaixo deve calcular o total emprestado por cada vendedor mas está \"estourando\" a exceção `ValueError` devido a um erro no conjunto de dados. Utilize a estrutura `try-catch` para garantir que o código seja executado com sucesso. \n"
      ],
      "metadata": {
        "id": "rLJkURnXMZrt"
      }
    },
    {
      "cell_type": "markdown",
      "source": [
        "**Atenção:** Você não deve alterar o arquivo de dados."
      ],
      "metadata": {
        "id": "WoHIHDELMbOl"
      }
    },
    {
      "cell_type": "markdown",
      "source": [
        "Dicas: \n",
        "\n",
        " \n",
        "\n",
        "1.  Identique o bloco que código que pode gerar a exceção e utilize `try` e `except` de modo que a operação que pode causar o problema seja colocada dentro do bloco `try`, e o código que trata a exceção seja escrito dentro do bloco `except`.\n",
        "2.   Tratar a exceção no `except`: utilize o método `replace()` para remover as aspas do conjunto de dados 'linha_elementos[1]'."
      ],
      "metadata": {
        "id": "b8d52eZLMdK2"
      }
    },
    {
      "cell_type": "markdown",
      "source": [
        "Resumo sobre o método `replace()`:\n",
        "\n",
        "O método `replace()` é usado para substituir determinado conteúdo de uma string. Esse método recebe 2 argumentos obrigatórios: o 1º corresponde ao valor original que será substituído e o 2º corresponde ao novo valor inserido.\n",
        "\n",
        "Na prática, o interpretador Python vai percorrer a string e, assim que encontrar o valor correspondente ao 1º argumento vai substituir o conteúdo do 1º argumento pelo conteúdo do 2º argumento. "
      ],
      "metadata": {
        "id": "ZDHE5RiMMemF"
      }
    },
    {
      "cell_type": "markdown",
      "source": [
        "\n",
        "Sintaxe:\n",
        "```\n",
        "replace('valor que será substituído', 'novo valor inserido')\n",
        "```\n",
        "\n"
      ],
      "metadata": {
        "id": "dVuk-LUnMgDu"
      }
    },
    {
      "cell_type": "markdown",
      "source": [
        "Exemplo - aplicação método replace():\n"
      ],
      "metadata": {
        "id": "UUkP7W2nMhgU"
      }
    },
    {
      "cell_type": "code",
      "source": [
        "frase2 = 'Módulos finalizados: 1, 2, 3, *4*, *5*, *6* e 7'\n",
        "\n",
        "# Usar o replace() para trocar o caractere asterisco pelo caractere aspas na string \"frase2\"\n",
        "print(frase2.replace('*',''))"
      ],
      "metadata": {
        "colab": {
          "base_uri": "https://localhost:8080/"
        },
        "id": "-lkwGrF1Mjq9",
        "outputId": "a283093c-cec4-49a9-dab5-a0b212fd0227"
      },
      "execution_count": 32,
      "outputs": [
        {
          "output_type": "stream",
          "name": "stdout",
          "text": [
            "Módulos finalizados: 1, 2, 3, 4, 5, 6 e 7\n"
          ]
        }
      ]
    },
    {
      "cell_type": "markdown",
      "source": [
        "Obs: Através do replace() para remover um caractere, o método vai substituir cada caractere por vazio."
      ],
      "metadata": {
        "id": "Nid_dTq5Mmt9"
      }
    },
    {
      "cell_type": "code",
      "source": [
        "def valor_total_emprestimo(valor: float, quantidade: int) -> float:\n",
        "  return valor * quantidade\n",
        "\"\"\"\n",
        "448.0\n",
        "826.7\n",
        "313.6\n",
        "808.0                PROBLEMA!\n",
        "2212.                    |\n",
        "2771.3                   |\n",
        "2240.0                   |\n",
        "\"4151.0\" <----------------\n",
        "\"\"\"\n",
        "emprestimos = []\n",
        "\n",
        "with open('credito.csv','r', encoding = 'UTF-8') as fp:\n",
        "  linha = fp.readline().rstrip('\\n') # cabeçalho \n",
        "  linha = fp.readline()\n",
        "  while linha:\n",
        "    linha_emprestimo = {}\n",
        "    linha_elementos = linha.strip().split(sep=',')\n",
        "    linha_emprestimo['id_vendedor'] = linha_elementos[0]\n",
        "    try:\n",
        "      linha_emprestimo['valor_emprestimos'] = float(linha_elementos[1])\n",
        "      linha_emprestimo['quantidade_emprestimos'] = int(linha_elementos[2])\n",
        "      linha_emprestimo['data'] = linha_elementos[3]\n",
        "      emprestimos.append(linha_emprestimo)\n",
        "      linha = fp.readline()\n",
        "    \n",
        "    except:\n",
        "      linha_emprestimo['valor_emprestimos'] = float(linha_elementos[1].replace('\"',''))\n",
        "      linha_emprestimo['quantidade_emprestimos'] = int(linha_elementos[2])\n",
        "      linha_emprestimo['data'] = linha_elementos[3]\n",
        "      emprestimos.append(linha_emprestimo)\n",
        "      linha = fp.readline()\n",
        "    \n",
        "\n",
        "emprestimos_total = []\n",
        "#Recaptulando, a varialvel \"emprestimos\" e uma lista de dicionarios:\n",
        "#[{'id_vendedor':'104271','valor_emprestimos': 448.0 , 'quatidade_emprestimos': 1 , 'data':'20161208'} , ...]\n",
        "for emprestimo in emprestimos:\n",
        "  valor_total = valor_total_emprestimo(emprestimo['valor_emprestimos'] , emprestimo['quantidade_emprestimos'])\n",
        "  emprestimos_total.append({emprestimo['id_vendedor']: valor_total})\n",
        "#Recaptulando, a variavel \"emprestimos_total\" é uma lista de dicionarios:\n",
        "#[{'id_vendedor':qtd_total_dele} , {'id_vendedor':qtd_total_dele} , {'id_vendedor':qtd_total_dele} , ... ]\n",
        "for value in emprestimos_total:\n",
        "  print(value)"
      ],
      "metadata": {
        "colab": {
          "base_uri": "https://localhost:8080/"
        },
        "id": "xbUpQXHQMo-N",
        "outputId": "57418b4b-9961-45a3-999e-c4ded37e2f06"
      },
      "execution_count": 34,
      "outputs": [
        {
          "output_type": "stream",
          "name": "stdout",
          "text": [
            "{'104271': 448.0}\n",
            "{'21476': 2480.1000000000004}\n",
            "{'87440': 940.8000000000001}\n",
            "{'15980': 4848.0}\n",
            "{'215906': 11060.0}\n",
            "{'33696': 5542.6}\n",
            "{'33893': 6720.0}\n",
            "{'214946': 74718.0}\n",
            "{'123974': 4043.9}\n",
            "{'225870': 8078.0}\n"
          ]
        }
      ]
    },
    {
      "cell_type": "markdown",
      "source": [
        "O resultado final deve ser a impressão da seguinte lista:\n",
        "\n",
        "```\n",
        "{'104271': 448.0}\n",
        "{'21476': 2480.1000000000004}\n",
        "{'87440': 940.8000000000001}\n",
        "{'15980': 4848.0}\n",
        "{'215906': 11060.0}\n",
        "{'33696': 5542.6}\n",
        "{'33893': 6720.0}\n",
        "{'214946': 74718.0}\n",
        "{'123974': 4043.9}\n",
        "{'225870': 8078.0}\n",
        "```"
      ],
      "metadata": {
        "id": "bDxNa5bVMqyt"
      }
    }
  ]
}