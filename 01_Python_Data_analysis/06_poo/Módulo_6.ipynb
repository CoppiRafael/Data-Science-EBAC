{
  "nbformat": 4,
  "nbformat_minor": 0,
  "metadata": {
    "colab": {
      "provenance": []
    },
    "kernelspec": {
      "name": "python3",
      "display_name": "Python 3"
    },
    "language_info": {
      "name": "python"
    }
  },
  "cells": [
    {
      "cell_type": "markdown",
      "source": [
        "# **Exercícios**"
      ],
      "metadata": {
        "id": "fVqhaHDmUkhU"
      }
    },
    {
      "cell_type": "markdown",
      "source": [
        "## 0\\. Preparação do ambiente\n"
      ],
      "metadata": {
        "id": "q59N859NUlPr"
      }
    },
    {
      "cell_type": "markdown",
      "source": [
        "Neste exercício vamos trabalhar com os arquivos de csv e texto definidos abaixo. Execute cada uma das células de código para escrever os arquivos na sua máquina virtual."
      ],
      "metadata": {
        "id": "GDD_-73wUohD"
      }
    },
    {
      "cell_type": "markdown",
      "source": [
        "* **carros.csv**: arquivo csv com informações sobre carros (venda, manutenção, portas, etc.)."
      ],
      "metadata": {
        "id": "8S9p_-4fUqis"
      }
    },
    {
      "cell_type": "code",
      "source": [
        "%%writefile carros.csv\n",
        "id,valor_venda,valor_manutencao,portas,pessoas,porta_malas\n",
        "1,vhigh,med,2,2,small\n",
        "2,med,vhigh,2,2,small\n",
        "3,low,vhigh,2,2,small\n",
        "4,low,high,2,2,small\n",
        "5,low,high,2,2,small\n",
        "6,low,high,4,4,big\n",
        "7,low,high,4,4,big\n",
        "8,low,med,2,2,small\n",
        "9,low,med,2,2,small\n",
        "10,low,med,2,2,small\n",
        "11,low,med,4,4,big\n",
        "12,low,low,2,2,small\n",
        "13,low,low,4,4,small\n",
        "14,low,low,4,4,med"
      ],
      "metadata": {
        "id": "B8XTnIxOUvW7",
        "colab": {
          "base_uri": "https://localhost:8080/"
        },
        "outputId": "b73c88b9-6be4-4806-9860-e077e48154c5"
      },
      "execution_count": 1,
      "outputs": [
        {
          "output_type": "stream",
          "name": "stdout",
          "text": [
            "Writing carros.csv\n"
          ]
        }
      ]
    },
    {
      "cell_type": "markdown",
      "source": [
        "* **musica.txt**: arquivo texto com a letra da música Roda Viva do Chico Buarque.\n"
      ],
      "metadata": {
        "id": "ehRQt1fiU3hD"
      }
    },
    {
      "cell_type": "code",
      "source": [
        "%%writefile musica.txt\n",
        "Roda Viva\n",
        "Chico Buarque\n",
        "\n",
        "Tem dias que a gente se sente\n",
        "Como quem partiu ou morreu\n",
        "A gente estancou de repente\n",
        "Ou foi o mundo então que cresceu\n",
        "A gente quer ter voz ativa\n",
        "No nosso destino mandar\n",
        "Mas eis que chega a roda viva\n",
        "E carrega o destino pra lá\n",
        "\n",
        "Roda mundo, roda-gigante\n",
        "Roda moinho, roda pião\n",
        "\n",
        "O tempo rodou num instante\n",
        "Nas voltas do meu coração\n",
        "A gente vai contra a corrente\n",
        "Até não poder resistir\n",
        "Na volta do barco é que sente\n",
        "O quanto deixou de cumprir\n",
        "Faz tempo que a gente cultiva\n",
        "A mais linda roseira que há\n",
        "Mas eis que chega a roda viva\n",
        "E carrega a roseira pra lá\n",
        "\n",
        "Roda mundo, roda-gigante\n",
        "Roda moinho, roda pião"
      ],
      "metadata": {
        "id": "7yY3XI1IU50D",
        "colab": {
          "base_uri": "https://localhost:8080/"
        },
        "outputId": "4c94e659-adba-45e7-f3b8-df5d771057c7"
      },
      "execution_count": 2,
      "outputs": [
        {
          "output_type": "stream",
          "name": "stdout",
          "text": [
            "Writing musica.txt\n"
          ]
        }
      ]
    },
    {
      "cell_type": "markdown",
      "source": [
        "## 1\\. Classe para ler arquivos de texto"
      ],
      "metadata": {
        "id": "z9i0F45aU96z"
      }
    },
    {
      "cell_type": "code",
      "source": [
        "class ArquivoTexto(object):\n",
        "\n",
        "  def __init__(self, arquivo: str):\n",
        "    self.arquivo = arquivo\n",
        "    self.conteudo = self.extrair_conteudo()\n",
        "\n",
        "  def extrair_conteudo(self):\n",
        "    conteudo = None\n",
        "    with open(self.arquivo,'r',encoding='UTF-8') as arquivo:\n",
        "      conteudo = arquivo.readlines()\n",
        "    return conteudo\n",
        "\n",
        "\n",
        "  def extrair_linha(self, numero_linha: int):\n",
        "    \n",
        "    return self.conteudo[(numero_linha  -1)]\n",
        "\n",
        "\n",
        "  \n"
      ],
      "metadata": {
        "id": "lCAw7iUJVFyi"
      },
      "execution_count": 35,
      "outputs": []
    },
    {
      "cell_type": "markdown",
      "source": [
        "Utilize o código abaixo para testar sua classe.\n"
      ],
      "metadata": {
        "id": "2jf7GpT1VHlC"
      }
    },
    {
      "cell_type": "code",
      "source": [
        "arquivo_texto = ArquivoTexto('musica.txt')\n",
        "\n",
        "numero_linha = 1\n",
        "print(arquivo_texto.extrair_linha(numero_linha)) # Roda Viva\n",
        "\n",
        "numero_linha = 10\n",
        "print(arquivo_texto.extrair_linha(numero_linha)) # Mas eis que chega a roda viva"
      ],
      "metadata": {
        "id": "MXmBoFPxVIEj",
        "colab": {
          "base_uri": "https://localhost:8080/"
        },
        "outputId": "82f874fe-6279-4254-a89d-e8c9bb21e50f"
      },
      "execution_count": 36,
      "outputs": [
        {
          "output_type": "stream",
          "name": "stdout",
          "text": [
            "Roda Viva\n",
            "\n",
            "Mas eis que chega a roda viva\n",
            "\n"
          ]
        }
      ]
    },
    {
      "cell_type": "markdown",
      "source": [
        "## 2\\. Classe para ler arquivos de csv"
      ],
      "metadata": {
        "id": "sSuREDe4VJba"
      }
    },
    {
      "cell_type": "markdown",
      "source": [
        "Crie a classe `ArquivoCSV`. Ela deve extender (herdar) a classe `ArquivoTexto` para reaproveitar os seus atributos (`self.arquivo` e `self.conteudo`). Além disso, adicione o seguinte atributo:\n",
        "\n",
        "*   `self.colunas`: Atributo do tipo `list` onde os elementos são os nome das colunas;\n",
        "\n",
        "A classe também deve conter o seguinte método:\n",
        "\n",
        "*   `self.extrair_nome_colunas`: Método que retorna o nome das colunas do arquivo.\n",
        "\n",
        "\n",
        "*   `extrair_coluna`: Método que recebe como parâmetro o indice da coluna e retorna o valor em questão."
      ],
      "metadata": {
        "id": "WqW70BIEVLub"
      }
    },
    {
      "cell_type": "code",
      "source": [
        "class ArquivoCSV(ArquivoTexto):\n",
        "\n",
        "  def __init__(self, arquivo: str):\n",
        "    super().__init__(arquivo=arquivo)\n",
        "    self.colunas = self.extrair_nome_colunas()\n",
        "\n",
        "  def extrair_nome_colunas(self):\n",
        "    with open(self.arquivo,'r',encoding='UTF-8') as arquivo:\n",
        "      linha = arquivo.readline().rstrip('\\n').split(',')\n",
        "    return linha\n",
        "  \n",
        "  def extrair_coluna(self, indice_coluna: int):\n",
        "    #['id', 'valor_venda', 'valor_manutencao', 'portas', 'pessoas', 'porta_malas']\n",
        "    return self.colunas[indice_coluna-1]\n",
        "    "
      ],
      "metadata": {
        "id": "CXKE_7SeVO2b"
      },
      "execution_count": 40,
      "outputs": []
    },
    {
      "cell_type": "markdown",
      "source": [
        "Utilize o código abaixo para testar sua classe."
      ],
      "metadata": {
        "id": "grMh2x7UVQ1G"
      }
    },
    {
      "cell_type": "code",
      "source": [
        "arquivo_csv = ArquivoCSV(arquivo='carros.csv')\n",
        "\n",
        "numero_linha = 1\n",
        "print(arquivo_csv.extrair_linha(numero_linha=numero_linha)) # id,valor_venda,valor_manutencao,portas,pessoas,porta_malas\n",
        "\n",
        "print(arquivo_csv.colunas) # ['id', 'valor_venda', 'valor_manutencao', 'portas', 'pessoas', 'porta_malas']\n",
        "\n",
        "numero_linha = 10\n",
        "print(arquivo_csv.extrair_linha(numero_linha=numero_linha)) # 9,low,med,2,2,small\n",
        "\n",
        "#NÃO LEVEI EM CONTA A COLUNA 0, PORQUE LEVEI EM CONTA Q OS USUÁRIOS NAO SABEM Q EXISTE UMA COLUNA 0, FIZ SER CONTADA DA COLUNA 1 (COLUNA 0 VIROU A 1)\n",
        "indice_coluna = 2\n",
        "print(arquivo_csv.extrair_coluna(indice_coluna=indice_coluna)) "
      ],
      "metadata": {
        "id": "WntKDNWCVRaM",
        "colab": {
          "base_uri": "https://localhost:8080/"
        },
        "outputId": "3dab2139-4633-4da5-a7a7-3c1bb72ff703"
      },
      "execution_count": 42,
      "outputs": [
        {
          "output_type": "stream",
          "name": "stdout",
          "text": [
            "id,valor_venda,valor_manutencao,portas,pessoas,porta_malas\n",
            "\n",
            "['id', 'valor_venda', 'valor_manutencao', 'portas', 'pessoas', 'porta_malas']\n",
            "9,low,med,2,2,small\n",
            "\n",
            "valor_venda\n"
          ]
        }
      ]
    },
    {
      "cell_type": "markdown",
      "source": [
        "# Exercício bônus"
      ],
      "metadata": {
        "id": "KWwOSTUqVVhy"
      }
    },
    {
      "cell_type": "markdown",
      "source": [
        "1. Classe para ler o arquivo csv\n",
        "\n",
        "Crie a classe `ArquivoCSV2`. Ela deve extender (herdar) a classe `ArquivoTexto` para reaproveitar o seu atributos `self.arquivo` e o método `self.extrair_linha`. \n",
        "\n",
        "\n",
        "A classe também deve conter o seguinte método:\n",
        "\n",
        "*   `self.extrair_coluna_da_linha`: Método que recebe como parâmetro o numero da linha e o indice da coluna e retorna o valor em questão."
      ],
      "metadata": {
        "id": "mBc9_BwbVXvj"
      }
    },
    {
      "cell_type": "code",
      "source": [
        "class ArquivoCSV2(ArquivoTexto):\n",
        "\n",
        "  def __init__(self, arquivo: str):\n",
        "    super().__init__(arquivo=arquivo)\n",
        "\n",
        "  def extrair_coluna_da_linha(self, numero_linha: int, indice_coluna: int):\n",
        "    lista_teste = self.extrair_conteudo()\n",
        "    linha_elemento = lista_teste[numero_linha + 1]\n",
        "    elemento = linha_elemento.rstrip('\\n').split(',')\n",
        "    return elemento[indice_coluna - 1]\n",
        "    \"\"\"\n",
        "      ['id,valor_venda,valor_manutencao,portas,pessoas,porta_malas\\n',\n",
        "      '1,vhigh,med,2,2,small\\n',\n",
        "      '2,med,vhigh,2,2,small\\n',\n",
        "      '3,low,vhigh,2,2,small\\n',\n",
        "      '4,low,high,2,2,small\\n',\n",
        "      '5,low,high,2,2,small\\n',\n",
        "      '6,low,high,4,4,big\\n',\n",
        "      '7,low,high,4,4,big\\n',\n",
        "      '8,low,med,2,2,small\\n',\n",
        "      '9,low,med,2,2,small\\n',\n",
        "      '10,low,med,2,2,small\\n',\n",
        "      '11,low,med,4,4,big\\n',\n",
        "      '12,low,low,2,2,small\\n',\n",
        "      '13,low,low,4,4,small\\n',\n",
        "      '14,low,low,4,4,med\\n']\n",
        "    \"\"\"\n",
        "      "
      ],
      "metadata": {
        "id": "-ZFMjQNtVZQU"
      },
      "execution_count": 39,
      "outputs": []
    },
    {
      "cell_type": "code",
      "source": [
        "arquivo_csv2 = ArquivoCSV2(arquivo='carros.csv')\n",
        "\n",
        "numero_linha = 10\n",
        "indice_coluna = 2\n",
        "print(arquivo_csv2.extrair_coluna_da_linha(numero_linha=numero_linha, indice_coluna=indice_coluna)) # low"
      ],
      "metadata": {
        "id": "d4OVfMO5VZ0y",
        "colab": {
          "base_uri": "https://localhost:8080/"
        },
        "outputId": "b664afa4-e8dc-4520-ef1a-544e82118f9c"
      },
      "execution_count": 34,
      "outputs": [
        {
          "output_type": "stream",
          "name": "stdout",
          "text": [
            "low\n"
          ]
        }
      ]
    }
  ]
}