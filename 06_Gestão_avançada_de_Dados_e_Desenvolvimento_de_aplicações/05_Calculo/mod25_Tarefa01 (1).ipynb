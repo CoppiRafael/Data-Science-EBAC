{
 "cells": [
  {
   "cell_type": "markdown",
   "metadata": {},
   "source": [
    "# Cálculo - Tarefa 01\n",
    "\n",
    "1. Marque quais desses métodos/algoritmos muito populares em ciência de dados são baseados no uso de derivada:\n",
    "\n",
    "    1. Método Mínimos Quadrados\n",
    "    2. Gradiente descendente\n",
    "    3. Newton Raphson\n",
    "    4. CART (Árvore de decisão)"
   ]
  },
  {
   "cell_type": "markdown",
   "metadata": {},
   "source": [
    "\r\n",
    "\r\n",
    "### 1. Método dos Mínimos Quadrados:\r\n",
    "- **Utiliza derivadas**.\r\n",
    "  \r\n",
    "O método dos mínimos quadrados é usado para ajustar modelos de regressão, minimizando a soma dos quadrados dos erros (diferença entre valores observados e preditos). O processo de minimizar essa soma envolve a derivada da função de erro em relação aos parâmetros (coeficientes) do modelo. A condição para minimizar o erro é que as derivadas parciais em relação aos parâmetros sejam zero, o que resulta nas equações normais que resolvem o problema.\r\n",
    "\r\n",
    "### 2. Gradiente Descendente:\r\n",
    "- **Utiliza derivadas**.\r\n",
    "\r\n",
    "O gradiente descendente é um algoritmo de otimização usado em uma variedade de problemas de aprendizado de máquina, incluindo a regressão e o treinamento de redes neurais. Ele minimiza uma função de custo iterativamente, movendo-se na direção oposta ao gradiente da função (a derivada da função de custo em relação aos parâmetros). O gradiente fornece a direção de maior inclinação da função, e o algoritmo \"desce\" na direção contrária para encontrar o ponto mínimo.\r\n",
    "\r\n",
    "### 3. Newton-Raphson:\r\n",
    "- **Utiliza derivadas**.\r\n",
    "\r\n",
    "O método de Newton-Raphson é um algoritmo de otimização e resolução de equações que usa a derivada e a segunda derivada da função para encontrar raízes ou pontos de mínimo/máximo. Ele utiliza uma aproximação local da função com uma série de Taylor de segunda ordem, que depende das derivadas. Embora mais rápido que o gradiente descendente em certos casos, ele pode ser mais complexo de implementar por depender da segunda derivada (a Hessiana, no caso multivariado).\r\n",
    "\r\n",
    "### 4. CART (Árvore de Decisão):\r\n",
    "- **Não utiliza derivadas**.\r\n",
    "\r\n",
    "O algoritmo CART (Classification and Regression Trees) constrói árvores de decisão sem o uso de derivadas. Ele utiliza a divisão dos dados (split) com base em medidas de impureza, como o índice Gini (para classificação) ou o erro quadrático médio (para regressão). A árvore é construída de maneira heurística, selecionando a melhor divisão em cada nó para maximizar a separação entre classes ou minimizar o erro de previsão, sem realizar cálculos baseados em derivadas.\r\n",
    "\r\n",
    "---\r\n",
    "\r\n",
    "## Resumo:\r\n",
    "- **Utilizam derivadas**: Método dos Mínimos Quadrados, Gradiente Descendente, Newton-Raphson.\r\n",
    "- **Não utiliza derivadas**: CART (Árvore de Decisão).\r\n"
   ]
  },
  {
   "cell_type": "markdown",
   "metadata": {},
   "source": [
    "## 2. Dada uma base de dados com uma variável resposta $y$ e um conjunto de variáveis explicativas. Considere uma estrutura de um modelo de regressão. Explique com suas palavras por que não é possível obter parâmetros que forneçam um erro quadrático médio (EQM) menor que o obtido com estimadores de mínimos quadrados."
   ]
  },
  {
   "cell_type": "markdown",
   "metadata": {},
   "source": [
    "Os estimadores de mínimos quadrados (MQO) são desenhados especificamente para minimizar o erro quadrático médio (EQM), que mede a diferença entre os valores observados e preditos. Como o MQO ajusta os parâmetros do modelo exatamente para que essa diferença seja a menor possível, não há como obter um EQM menor usando outro método. Ele é o melhor estimador nesse sentido, pois encontra o ponto exato que minimiza os erros, dado o conjunto de dados."
   ]
  }
 ],
 "metadata": {
  "kernelspec": {
   "display_name": "Python 3 (ipykernel)",
   "language": "python",
   "name": "python3"
  },
  "language_info": {
   "codemirror_mode": {
    "name": "ipython",
    "version": 3
   },
   "file_extension": ".py",
   "mimetype": "text/x-python",
   "name": "python",
   "nbconvert_exporter": "python",
   "pygments_lexer": "ipython3",
   "version": "3.12.4"
  },
  "toc": {
   "base_numbering": 1,
   "nav_menu": {},
   "number_sections": true,
   "sideBar": true,
   "skip_h1_title": true,
   "title_cell": "Índice",
   "title_sidebar": "Conteúdo",
   "toc_cell": false,
   "toc_position": {},
   "toc_section_display": true,
   "toc_window_display": false
  },
  "varInspector": {
   "cols": {
    "lenName": 16,
    "lenType": 16,
    "lenVar": 40
   },
   "kernels_config": {
    "python": {
     "delete_cmd_postfix": "",
     "delete_cmd_prefix": "del ",
     "library": "var_list.py",
     "varRefreshCmd": "print(var_dic_list())"
    },
    "r": {
     "delete_cmd_postfix": ") ",
     "delete_cmd_prefix": "rm(",
     "library": "var_list.r",
     "varRefreshCmd": "cat(var_dic_list()) "
    }
   },
   "types_to_exclude": [
    "module",
    "function",
    "builtin_function_or_method",
    "instance",
    "_Feature"
   ],
   "window_display": false
  }
 },
 "nbformat": 4,
 "nbformat_minor": 4
}
