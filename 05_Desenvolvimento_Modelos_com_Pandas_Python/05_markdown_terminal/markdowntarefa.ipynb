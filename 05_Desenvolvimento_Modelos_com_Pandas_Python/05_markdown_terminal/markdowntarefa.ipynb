{
 "cells": [
  {
   "cell_type": "markdown",
   "id": "7b4041e7-0d95-4d95-ade0-81a3213ed157",
   "metadata": {},
   "source": [
    "# <span style=\"color:blue\">Fórmula de Bhaskara.</span>\r\n",
    "\r\n",
    "A solução para uma função de segundo grau depende das suas raízes (valores de x). Como já vimos, os coeficientes precisam ser números reais e o angular diferente de zero. Sendo assim, temos a seguinte fórmula de Bhaskara:\r\n",
    "\r\n",
    "<div style=\"text-align:center;\">\r\n",
    "  <p style=\"font-size: 20px;\">$$x = \\frac{-b \\pm \\sqrt{b^2 - 4 \\cdot a \\cdot c}}{2 \\cdot a}$$</p>\r\n",
    "  <p><i>Fórmula de Bhaskara.</i></p>\r\n",
    "</div>\r\n",
    "\r\n",
    "Para melhor compreensão, o seu cálculo é dividido em duas partes: discriminante da equação e operações para determinar as raízes.\r\n",
    "\r\n",
    "## Discriminante\r\n",
    "\r\n",
    "A figura dentro da raiz na fórmula de Bhaskara é nomeada de discriminante. Seu símbolo é a letra grega delta e apresenta a determinada fórmula:\r\n",
    "\r\n",
    "<div style=\"text-align:center;\">\r\n",
    "  <p style=\"font-size: 20px;\">$$\\Delta = b^2 - 4 \\cdot a \\cdot c$$</p>\r\n",
    "  <p><i>Fórmula do discriminante.</i></p>\r\n",
    "</div>\r\n",
    "\r\n",
    "- Se o delta for maior que zero, a equação terá dois valores reais e distintos.\r\n",
    "- Se o delta for igual a zero, a equação terá somente um valor real ou dois resultados iguais.\r\n",
    "- Se o delta for menor que zero, a equação não possuirá valores reais.\r\n"
   ]
  }
 ],
 "metadata": {
  "kernelspec": {
   "display_name": "Python 3 (ipykernel)",
   "language": "python",
   "name": "python3"
  },
  "language_info": {
   "codemirror_mode": {
    "name": "ipython",
    "version": 3
   },
   "file_extension": ".py",
   "mimetype": "text/x-python",
   "name": "python",
   "nbconvert_exporter": "python",
   "pygments_lexer": "ipython3",
   "version": "3.12.4"
  }
 },
 "nbformat": 4,
 "nbformat_minor": 5
}
